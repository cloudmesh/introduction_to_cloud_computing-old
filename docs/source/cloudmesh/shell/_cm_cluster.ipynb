{
 "metadata": {
  "name": "",
  "signature": "sha256:a6bd13a6d52595e04509b5435bc6bfe46719f9b738268cf3b88ff970123f9556"
 },
 "nbformat": 3,
 "nbformat_minor": 0,
 "worksheets": [
  {
   "cells": [
    {
     "cell_type": "heading",
     "level": 1,
     "metadata": {},
     "source": [
      "Create a Virtual Cluster"
     ]
    },
    {
     "cell_type": "markdown",
     "metadata": {},
     "source": [
      "First import cloudmesh."
     ]
    },
    {
     "cell_type": "code",
     "collapsed": false,
     "input": [
      "import cloudmesh"
     ],
     "language": "python",
     "metadata": {},
     "outputs": []
    },
    {
     "cell_type": "markdown",
     "metadata": {},
     "source": [
      "Use command cluster to start a cluster of VMs, and each of them can log into all others. please refer to:"
     ]
    },
    {
     "cell_type": "markdown",
     "metadata": {},
     "source": [
      "Before you start a virtual cluster, please need to make susre that you set a number of defaults. This includes:"
     ]
    },
    {
     "cell_type": "code",
     "collapsed": false,
     "input": [
      "print cloudmesh.shell(\"cluster\")"
     ],
     "language": "python",
     "metadata": {},
     "outputs": []
    },
    {
     "cell_type": "markdown",
     "metadata": {},
     "source": [
      "1. select a cloud::\n",
      "\n",
      "   cm cloud select india\n",
      "   \n",
      "2. activate the cloud::\n",
      "\n",
      "   cm cloud on india\n",
      "   \n",
      "3. set the default key::\n",
      "\n",
      "   cm key default [NAME]\n",
      "   \n",
      "5. set a default image from the list of images::\n",
      "\n",
      "   cm default image\n",
      "   \n",
      "   \n",
      "6. set a default flavor from the list of flavors::\n",
      "\n",
      "   cm default flavor\n",
      "\n",
      "After this you may start the cluster with command::\n",
      "\n",
      "   cm cluster create\n",
      "   \n",
      "while specifying a number of parameters:\n",
      "\n",
      "name    \n",
      "\n",
      "  the unique name for this cluster \n",
      "\n",
      "--count number\n",
      "\n",
      "  the numebr of VMs in the cluster\n",
      "\n",
      "--ln name\n",
      "\n",
      "  the login name, for example 'ubuntu'\n",
      "  \n",
      "Note: --ln may be changed to --login"
     ]
    },
    {
     "cell_type": "markdown",
     "metadata": {},
     "source": [
      "To list the clusters you can use the command"
     ]
    },
    {
     "cell_type": "code",
     "collapsed": false,
     "input": [
      "print cloudmesh.shell(\"cluster\")"
     ],
     "language": "python",
     "metadata": {},
     "outputs": []
    },
    {
     "cell_type": "markdown",
     "metadata": {},
     "source": [
      "To create a cluster you can use the command"
     ]
    },
    {
     "cell_type": "code",
     "collapsed": false,
     "input": [
      "print cloudmesh.shell(\"cluster create cm_cluster1 --count=3 --ln=ubuntu\")"
     ],
     "language": "python",
     "metadata": {},
     "outputs": []
    },
    {
     "cell_type": "markdown",
     "metadata": {},
     "source": [
      "You may also provide cloud name, flavor or image in the command if you don't want to pre-set them. For example:"
     ]
    },
    {
     "cell_type": "code",
     "collapsed": false,
     "input": [
      "print cloudmesh.shell(\"cluster create \"\n",
      "                      \"cm_cluster1 \"\n",
      "                      \"--count=3 \"\n",
      "                      \"--ln=ubuntu \"\n",
      "                      \"--cloud=india \"\n",
      "                      \"--flavor=m1.small \"\n",
      "                      \"--image=futuregrid/ubuntu-14.04\")"
     ],
     "language": "python",
     "metadata": {},
     "outputs": []
    }
   ],
   "metadata": {}
  }
 ]
}
