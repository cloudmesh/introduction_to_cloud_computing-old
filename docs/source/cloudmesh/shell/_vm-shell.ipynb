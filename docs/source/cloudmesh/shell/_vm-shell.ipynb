{
 "metadata": {
  "name": "",
  "signature": "sha256:f70296455670ae8ec03f5c4ac5f204a6e7a0fa658c9382e7250bc65a1a1f4118"
 },
 "nbformat": 3,
 "nbformat_minor": 0,
 "worksheets": [
  {
   "cells": [
    {
     "cell_type": "heading",
     "level": 1,
     "metadata": {},
     "source": [
      "Cloudmesh Shell for VM Management"
     ]
    },
    {
     "cell_type": "markdown",
     "metadata": {},
     "source": [
      "<button type=\"button\" class=\"btn btn-default navbar-btn\">[Notebook](http://localhost:8888/notebooks/docs/source/cloudmesh/shell/_vm-shell.ipynb)</button>"
     ]
    },
    {
     "cell_type": "heading",
     "level": 2,
     "metadata": {},
     "source": [
      "Initialization"
     ]
    },
    {
     "cell_type": "markdown",
     "metadata": {},
     "source": [
      "A simple import allows you to enable all features of Cloudmesh in Python."
     ]
    },
    {
     "cell_type": "code",
     "collapsed": false,
     "input": [
      "import cloudmesh"
     ],
     "language": "python",
     "metadata": {},
     "outputs": [],
     "prompt_number": 1
    },
    {
     "cell_type": "code",
     "collapsed": false,
     "input": [
      "print cloudmesh.shell(\"help\")"
     ],
     "language": "python",
     "metadata": {},
     "outputs": [
      {
       "output_type": "stream",
       "stream": "stdout",
       "text": [
        "\n",
        "Documented commands (type help <topic>):\n",
        "========================================\n",
        "EOF       dot2      help       list      plugins   script          var    \n",
        "banner    edit      image      loglevel  project   security_group  verbose\n",
        "clear     exec      info       man       py        status          version\n",
        "cloud     exp       init       metric    q         storm           vm     \n",
        "color     flavor    inventory  notebook  quit      timer           web    \n",
        "debug     graphviz  key        open      rain      use             yaml   \n",
        "defaults  group     label      pause     register  user          \n",
        "\n",
        "Ipython Commands\n",
        "================\n",
        "notebook\n",
        "\n",
        "Gui Commands\n",
        "============\n",
        "web\n",
        "\n",
        "Cloud Commands\n",
        "==============\n",
        "cloud     group  inventory  rain            status  vm     loglevel\n",
        "defaults  image  list       register        storm   yaml   keys    \n",
        "flavor    init   metric     security_group  user    debug  project \n",
        "\n",
        "\n"
       ]
      }
     ],
     "prompt_number": 2
    },
    {
     "cell_type": "code",
     "collapsed": false,
     "input": [
      "print cloudmesh.shell(\"debug off\")"
     ],
     "language": "python",
     "metadata": {},
     "outputs": [
      {
       "output_type": "stream",
       "stream": "stdout",
       "text": [
        "Debug mode is off.\n",
        "\n"
       ]
      }
     ],
     "prompt_number": 3
    },
    {
     "cell_type": "code",
     "collapsed": false,
     "input": [
      "print cloudmesh.shell(\"loglevel error\")"
     ],
     "language": "python",
     "metadata": {},
     "outputs": [
      {
       "output_type": "stream",
       "stream": "stdout",
       "text": [
        "ERROR mode is set.\n",
        "\n"
       ]
      }
     ],
     "prompt_number": 4
    },
    {
     "cell_type": "heading",
     "level": 2,
     "metadata": {},
     "source": [
      "Activating Clouds"
     ]
    },
    {
     "cell_type": "markdown",
     "metadata": {},
     "source": [
      "In order for cloudmesh to work with multiple coulds, we need to find out first which clouds are available. Users can add their own clouds later which we describe in the registration section. \n",
      "\n",
      "Let us inspect what is already available by invoking the list command"
     ]
    },
    {
     "cell_type": "code",
     "collapsed": false,
     "input": [
      "print cloudmesh.shell(\"cloud list\")"
     ],
     "language": "python",
     "metadata": {},
     "outputs": [
      {
       "output_type": "stream",
       "stream": "stdout",
       "text": [
        "+-----------+--------+\n",
        "| cloud     | active |\n",
        "+-----------+--------+\n",
        "| aws       |        |\n",
        "| azure     |        |\n",
        "| devstack  |        |\n",
        "| dreamhost |        |\n",
        "| hp        |        |\n",
        "| hp_east   |        |\n",
        "| india     |        |\n",
        "+-----------+--------+\n",
        "\n"
       ]
      }
     ],
     "prompt_number": 2
    },
    {
     "cell_type": "markdown",
     "metadata": {},
     "source": [
      "As you see we have a number of clouds, but none of them is already active. Thus we need to first activate a cloud. \n",
      "We assume that you have an account on FutureGrid. Let us activate the cloud india"
     ]
    },
    {
     "cell_type": "code",
     "collapsed": false,
     "input": [
      "print cloudmesh.shell(\"cloud on india\")"
     ],
     "language": "python",
     "metadata": {},
     "outputs": [
      {
       "output_type": "stream",
       "stream": "stdout",
       "text": [
        "* india\n",
        "Refreshing gvonlasz servers india ->\n",
        "Refresh time: 0.697345972061\n",
        "Store time: 0.0153570175171\n",
        "\u001b[32mcloud 'india' activated.\u001b[0m\n",
        "\n"
       ]
      }
     ],
     "prompt_number": 5
    },
    {
     "cell_type": "markdown",
     "metadata": {},
     "source": [
      "We also have a conveniet interactive selector to select a cloud to work with, that however does not work with ipython\n",
      "        \n",
      "    \"cloud select\"\n",
      "    \n",
      "or you may also input \"cloud select india\" to select a specific cloud india"
     ]
    },
    {
     "cell_type": "markdown",
     "metadata": {},
     "source": [
      "To check if the cloud was activated, simply use the list command again"
     ]
    },
    {
     "cell_type": "code",
     "collapsed": false,
     "input": [
      "print cloudmesh.shell(\"cloud list\")"
     ],
     "language": "python",
     "metadata": {},
     "outputs": [
      {
       "output_type": "stream",
       "stream": "stdout",
       "text": [
        "+-----------+--------+\n",
        "| cloud     | active |\n",
        "+-----------+--------+\n",
        "| aws       |        |\n",
        "| azure     |        |\n",
        "| devstack  |        |\n",
        "| dreamhost |        |\n",
        "| hp        |        |\n",
        "| hp_east   |        |\n",
        "| india     | True   |\n",
        "+-----------+--------+\n",
        "\n"
       ]
      }
     ],
     "prompt_number": 4
    },
    {
     "cell_type": "heading",
     "level": 2,
     "metadata": {},
     "source": [
      "Start a VM"
     ]
    },
    {
     "cell_type": "markdown",
     "metadata": {},
     "source": [
      "Now let us see how to start VMs on a cloud, here is how to start a VM on cloud india"
     ]
    },
    {
     "cell_type": "code",
     "collapsed": false,
     "input": [
      "print cloudmesh.shell(\"vm start --cloud=india --image=futuresystems/ubuntu-14.04 --flavor=m1.small\")"
     ],
     "language": "python",
     "metadata": {},
     "outputs": [
      {
       "output_type": "stream",
       "stream": "stdout",
       "text": [
        "* india\n",
        "Refreshing gvonlasz servers india ->\n",
        "Refresh time: 0.364186048508\n",
        "Store time: 0.0172290802002\n",
        "* india\n",
        "Refreshing gvonlasz flavors india ->\n",
        "Refresh time: 0.241857051849\n",
        "Store time: 0.0082221031189\n",
        "Refreshing gvonlasz images india ->\n",
        "Refresh time: 0.592792987823\n",
        "Store time: 0.0661771297455\n",
        "\n",
        "# ######################################################################\n",
        "# Starting vm->gvonlasz_14 on cloud->india using image->futuresystems/ubuntu-14.04, flavor->m1.small, key->gvonlasz_flat-key\n",
        "# ######################################################################\n",
        "job status: PENDING\n",
        "\n"
       ]
      }
     ],
     "prompt_number": 6
    },
    {
     "cell_type": "markdown",
     "metadata": {},
     "source": [
      "You may don't know what images or flavors are available on the cloud, or you don't want to type a long command every time you start a VM, things can get a lot easier by performing some setting up..."
     ]
    },
    {
     "cell_type": "heading",
     "level": 3,
     "metadata": {},
     "source": [
      "Set a default flavor or a default image"
     ]
    },
    {
     "cell_type": "markdown",
     "metadata": {},
     "source": [
      "Each cloud must have a default image and a default flavor to launch vm instances in a simple step. The cloud set command provides a way to set default values for an image or a flavor."
     ]
    },
    {
     "cell_type": "code",
     "collapsed": false,
     "input": [
      "print cloudmesh.shell(\"cloud set flavor india --flavorid=2\")"
     ],
     "language": "python",
     "metadata": {},
     "outputs": [
      {
       "output_type": "stream",
       "stream": "stdout",
       "text": [
        "* india\n",
        "Refreshing gvonlasz servers india ->\n",
        "Refresh time: 0.521083116531\n",
        "Store time: 0.0117969512939\n",
        "* india\n",
        "Refreshing gvonlasz flavors india ->\n",
        "Refresh time: 0.309951066971\n",
        "Store time: 0.00973987579346\n",
        "\u001b[32m'm1.small' is selected\u001b[0m\n",
        "\n"
       ]
      }
     ],
     "prompt_number": 7
    },
    {
     "cell_type": "code",
     "collapsed": false,
     "input": [
      "print cloudmesh.shell(\"cloud set image india --image=futuresystems/ubuntu-14.04\")"
     ],
     "language": "python",
     "metadata": {},
     "outputs": [
      {
       "output_type": "stream",
       "stream": "stdout",
       "text": [
        "* india\n",
        "Refreshing gvonlasz servers india ->\n",
        "Refresh time: 0.358379125595\n",
        "Store time: 0.0185420513153\n",
        "* india\n",
        "Refreshing gvonlasz images india ->\n",
        "Refresh time: 0.689934015274\n",
        "Store time: 0.133810043335\n",
        "\u001b[32m'futuresystems/ubuntu-14.04' is selected\u001b[0m\n",
        "\n"
       ]
      }
     ],
     "prompt_number": 8
    },
    {
     "cell_type": "heading",
     "level": 2,
     "metadata": {},
     "source": [
      "Get Flavors or Images"
     ]
    },
    {
     "cell_type": "markdown",
     "metadata": {},
     "source": [
      "Available flavors can be listed with the following command."
     ]
    },
    {
     "cell_type": "code",
     "collapsed": false,
     "input": [
      "print cloudmesh.shell(\"list flavor india --refresh\")"
     ],
     "language": "python",
     "metadata": {},
     "outputs": []
    },
    {
     "cell_type": "markdown",
     "metadata": {},
     "source": [
      "refresh option updates the data from the IaaS cloud. The cached data in the mongo database will be updated."
     ]
    },
    {
     "cell_type": "markdown",
     "metadata": {},
     "source": [
      "The `list image` command provides an available vm images on a selected cloud."
     ]
    },
    {
     "cell_type": "code",
     "collapsed": false,
     "input": [
      "print cloudmesh.shell(\"list image india --refresh\")"
     ],
     "language": "python",
     "metadata": {},
     "outputs": []
    },
    {
     "cell_type": "heading",
     "level": 2,
     "metadata": {},
     "source": [
      "Quick Start a VM"
     ]
    },
    {
     "cell_type": "markdown",
     "metadata": {},
     "source": [
      "Once you configured a default flavor and a default image, you can start a new VM with a few options."
     ]
    },
    {
     "cell_type": "code",
     "collapsed": false,
     "input": [
      "vmname = cloudmesh.shell(\"label --raw\")"
     ],
     "language": "python",
     "metadata": {},
     "outputs": [],
     "prompt_number": 3
    },
    {
     "cell_type": "markdown",
     "metadata": {},
     "source": [
      "We use `vmname` to delete the vm instance later in this tutorial."
     ]
    },
    {
     "cell_type": "code",
     "collapsed": false,
     "input": [
      "print cloudmesh.shell(\"vm start --cloud=india --name={0}\".format(vmname))"
     ],
     "language": "python",
     "metadata": {},
     "outputs": []
    },
    {
     "cell_type": "heading",
     "level": 2,
     "metadata": {},
     "source": [
      "Delete a VM"
     ]
    },
    {
     "cell_type": "markdown",
     "metadata": {},
     "source": [
      "If you know the id or name of the virtual machine that you want to destroy, *delete* command in cloudmesh simply terminate the instance."
     ]
    },
    {
     "cell_type": "markdown",
     "metadata": {},
     "source": [
      "`cloudmesh.shell(\"vm delete {0} --cloud=india --force\".format(vmname))`"
     ]
    },
    {
     "cell_type": "markdown",
     "metadata": {},
     "source": [
      ".. warning::   Do not execute the delete command as it deletes all vms of the tennant in openstack."
     ]
    },
    {
     "cell_type": "heading",
     "level": 2,
     "metadata": {},
     "source": [
      "More options to launch a VM instance"
     ]
    },
    {
     "cell_type": "markdown",
     "metadata": {},
     "source": [
      "When you create a new VM instance, you can also choose multiple options such as a flavor, an image associated with the instance. The `vm start` command accepts optional parameters as a user input of these options. To see a brief description of the command, try `cm \"vm --help\"` in the IPython Notebook cell.\n",
      "\n",
      "Available options are:\n",
      "\n",
      "* --cloud=<CloudName>    give a cloud to work on, if not given, selected or default cloud will be used\n",
      "* --count=<count>        give the number of servers to start\n",
      "* --flavor=<flavorName>  give the name of the flavor\n",
      "* --flavorid=<flavorId>  give the id of the flavor\n",
      "* --group=<group>        give the group name of server\n",
      "* --image=<imgName>      give the name of the image\n",
      "* --imageid=<imgId>      give the id of the image"
     ]
    },
    {
     "cell_type": "code",
     "collapsed": false,
     "input": [
      "cloudmesh.shell(\"vm start --cloud=india --flavor=m1.medium --image=futuresystems/ubuntu-12.04\")"
     ],
     "language": "python",
     "metadata": {},
     "outputs": []
    },
    {
     "cell_type": "heading",
     "level": 3,
     "metadata": {},
     "source": [
      "Set a default cloud"
     ]
    },
    {
     "cell_type": "markdown",
     "metadata": {},
     "source": [
      "If you want to make things even more convenient, you can set a default cloud or select a cloud to work with so that you don't have to type in a cloud everytime you need to specify a cloud, to set india as default cloud"
     ]
    },
    {
     "cell_type": "code",
     "collapsed": false,
     "input": [
      "print cloudmesh.shell(\"cloud set default india\")"
     ],
     "language": "python",
     "metadata": {},
     "outputs": []
    },
    {
     "cell_type": "markdown",
     "metadata": {},
     "source": [
      "to select a cloud"
     ]
    },
    {
     "cell_type": "code",
     "collapsed": false,
     "input": [
      "print cloudmesh.shell(\"cloud select india\")"
     ],
     "language": "python",
     "metadata": {},
     "outputs": []
    },
    {
     "cell_type": "markdown",
     "metadata": {},
     "source": [
      "You can see a selected cloud as a temporarily default cloud to work with."
     ]
    },
    {
     "cell_type": "markdown",
     "metadata": {},
     "source": [
      "For more details of using command cloud to set up a cloud"
     ]
    },
    {
     "cell_type": "code",
     "collapsed": false,
     "input": [
      "print cloudmesh.shell(\"cloud -h\")"
     ],
     "language": "python",
     "metadata": {},
     "outputs": []
    },
    {
     "cell_type": "markdown",
     "metadata": {},
     "source": [
      "After all setting up above, now you can start a VM simply by typing in"
     ]
    },
    {
     "cell_type": "heading",
     "level": 2,
     "metadata": {},
     "source": [
      "Refreshing VM status"
     ]
    },
    {
     "cell_type": "markdown",
     "metadata": {},
     "source": [
      "After you have started or deleted VMs, you may want to check clouds' VMs status. To refresh cloud india's VMs information"
     ]
    },
    {
     "cell_type": "code",
     "collapsed": false,
     "input": [
      "print cloudmesh.shell(\"list vm india --refresh\")"
     ],
     "language": "python",
     "metadata": {},
     "outputs": []
    },
    {
     "cell_type": "heading",
     "level": 2,
     "metadata": {},
     "source": [
      "Starting multiple VMs"
     ]
    },
    {
     "cell_type": "markdown",
     "metadata": {},
     "source": [
      "Sometimes we want to start more than one VM at the same time, we can choose the option --count=int where int is the number of VMs you want to start. For example, to start 3 VMs on india"
     ]
    },
    {
     "cell_type": "code",
     "collapsed": false,
     "input": [
      "import uuid;\n",
      "temp_group_name=\"ipython-tutorial-\" + str(uuid.uuid4().get_hex().upper()[0:6])"
     ],
     "language": "python",
     "metadata": {},
     "outputs": [],
     "prompt_number": 7
    },
    {
     "cell_type": "markdown",
     "metadata": {},
     "source": [
      "We use the temporary group name to delete the VMs later in this tutorial."
     ]
    },
    {
     "cell_type": "code",
     "collapsed": false,
     "input": [
      "print cloudmesh.shell(\"vm start --cloud=india --count=3 --group={0}\".format(temp_group_name))"
     ],
     "language": "python",
     "metadata": {},
     "outputs": [],
     "prompt_number": 39
    },
    {
     "cell_type": "heading",
     "level": 2,
     "metadata": {},
     "source": [
      "Deleting VMs "
     ]
    },
    {
     "cell_type": "markdown",
     "metadata": {},
     "source": [
      "To delete one VM is easy, what if we want to delete 1000 VMs, we need a more convenient way to do it. Cloudmesh shell provides several methods to find the VMs and delete them, you may think there are two phases of VM deletion, searching and deleting. Here are some examples:"
     ]
    },
    {
     "cell_type": "markdown",
     "metadata": {},
     "source": [
      "Let's start with deleting the VMs that we started in the previous example. We can delete them with the group name that we used. `temp_group_name`"
     ]
    },
    {
     "cell_type": "code",
     "collapsed": false,
     "input": [
      "cloudmesh.shell(\"vm delete --group={0} --cloud=india --force\".format(temp_group_name))"
     ],
     "language": "python",
     "metadata": {},
     "outputs": [],
     "prompt_number": 39
    },
    {
     "cell_type": "markdown",
     "metadata": {},
     "source": [
      "to delete all VMs of cloud india"
     ]
    },
    {
     "cell_type": "markdown",
     "metadata": {},
     "source": [
      "`cloudmesh.shell(\"vm delete --cloud=india --force\")`"
     ]
    },
    {
     "cell_type": "markdown",
     "metadata": {},
     "source": [
      "Note here we use the option \"--force\", without it the shell will give you a list of VMs to delete and ask for your confirmation."
     ]
    },
    {
     "cell_type": "markdown",
     "metadata": {},
     "source": [
      "to delete a VM by giving its name (you may always provide a cloud unless you have specified a default cloud or have selected a cloud)"
     ]
    },
    {
     "cell_type": "markdown",
     "metadata": {},
     "source": [
      "`cloudmesh.shell(\"vm delete --cloud=india sample_vm --force\")`"
     ]
    },
    {
     "cell_type": "markdown",
     "metadata": {},
     "source": [
      "to delete a VM by group"
     ]
    },
    {
     "cell_type": "markdown",
     "metadata": {},
     "source": [
      "`cloudmesh.shell(\"vm delete --cloud=india --group=testgroup --force\")`"
     ]
    },
    {
     "cell_type": "markdown",
     "metadata": {},
     "source": [
      "We can also narrow the search result by giving more search conditions. For example, to delete VMs of cloud india that they are also in the group 'testgroup' and they have the prefix name 'abc' and their indices' range is no greater than 100"
     ]
    },
    {
     "cell_type": "markdown",
     "metadata": {},
     "source": [
      "`cloudmesh.shell(\"vm delete --cloud=india --group=testgroup --prefix=abc --range=,100 --force\")`"
     ]
    },
    {
     "cell_type": "heading",
     "level": 2,
     "metadata": {},
     "source": [
      "Login to a VM"
     ]
    },
    {
     "cell_type": "markdown",
     "metadata": {},
     "source": [
      "To login to a VM, you need to assign a public id to the VM you started, for example, assign a public ip to a VM named test_1 on cloud india:"
     ]
    },
    {
     "cell_type": "code",
     "collapsed": false,
     "input": [
      "vmname = cloudmesh.shell(\"label --raw\")"
     ],
     "language": "python",
     "metadata": {},
     "outputs": [],
     "prompt_number": 35
    },
    {
     "cell_type": "code",
     "collapsed": false,
     "input": [
      "print cloudmesh.shell(\"vm start --cloud=india\")"
     ],
     "language": "python",
     "metadata": {},
     "outputs": [],
     "prompt_number": 39
    },
    {
     "cell_type": "code",
     "collapsed": false,
     "input": [
      "cloudmesh.shell(\"vm ip {0} --cloud=india\".format(vmname))"
     ],
     "language": "python",
     "metadata": {},
     "outputs": [],
     "prompt_number": 39
    },
    {
     "cell_type": "markdown",
     "metadata": {},
     "source": [
      "Then you can login to this VM by(note here you need to provide the login name for your VM, it varys depend on the image you use while you start the VM, e.g. for ubuntu, you may type --ln=ubuntu):"
     ]
    },
    {
     "cell_type": "markdown",
     "metadata": {},
     "source": [
      "cloudmesh.shell(\"vm login {0} --ln=ubuntu --cloud=india\".format(vmname))"
     ]
    },
    {
     "cell_type": "markdown",
     "metadata": {},
     "source": [
      "*IPython Notebook does not support interactive shell for ssh login. The command above can be executed in the Python console.*"
     ]
    },
    {
     "cell_type": "markdown",
     "metadata": {},
     "source": [
      "If you just want to run some commands and get the return on the VM, you may add the commands at the end following '--'(e.g. ls -a)"
     ]
    },
    {
     "cell_type": "code",
     "collapsed": false,
     "input": [
      "cloudmesh.shell(\"vm login {0} --ln=ubuntu --cloud=india -- ls -a\".format(vmname))"
     ],
     "language": "python",
     "metadata": {},
     "outputs": [],
     "prompt_number": 39
    },
    {
     "cell_type": "markdown",
     "metadata": {},
     "source": [
      "For more details for command vm"
     ]
    },
    {
     "cell_type": "markdown",
     "metadata": {},
     "source": [
      "print cloudmesh.shell(\"vm -h\")"
     ]
    },
    {
     "cell_type": "code",
     "collapsed": false,
     "input": [
      "cloudmesh.shell(\"vm delete {0} --cloud=india\".format(vmname))"
     ],
     "language": "python",
     "metadata": {},
     "outputs": []
    },
    {
     "cell_type": "markdown",
     "metadata": {},
     "source": [
      "Stop the vm that we started for this tutorial."
     ]
    },
    {
     "cell_type": "heading",
     "level": 2,
     "metadata": {},
     "source": [
      "Vitual Machine Name"
     ]
    },
    {
     "cell_type": "markdown",
     "metadata": {},
     "source": [
      "In Cloudmesh, the default name of VM consists of your username and a number, for example, alex_1. `label` command allows you to manage or modify the VM name as you wish."
     ]
    },
    {
     "cell_type": "code",
     "collapsed": false,
     "input": [
      "cloudmesh.shell(\"label\")"
     ],
     "language": "python",
     "metadata": {},
     "outputs": [
      {
       "metadata": {},
       "output_type": "pyout",
       "prompt_number": 33,
       "text": [
        "next vm name:\n",
        "albert_71"
       ]
      }
     ],
     "prompt_number": 33
    },
    {
     "cell_type": "markdown",
     "metadata": {},
     "source": [
      "cloudmesh.shell(\"label --prefix=albert --id=40\")"
     ]
    },
    {
     "cell_type": "markdown",
     "metadata": {},
     "source": [
      "If the user doesn\u2019t provide a name while starting VMs, cloudmesh will generate labels for them. The default form to name VMs is prefix_index, where prefix is a string and index is an non-negative integer. If a index is used, the index value will be automatically added by one waiting to be used for next VM. To check your current prefix and index"
     ]
    }
   ],
   "metadata": {}
  }
 ]
}
