{
 "metadata": {
  "name": "",
  "signature": "sha256:5a58821f02716acc93d2d50b470f65eeed60f5b3bd1adc3a3f85ddb8fff8ee7f"
 },
 "nbformat": 3,
 "nbformat_minor": 0,
 "worksheets": [
  {
   "cells": [
    {
     "cell_type": "markdown",
     "metadata": {},
     "source": [
      "Cloudmesh Shell - list command\n",
      "================================\n",
      "\n",
      "The *list* command provides cloud information about flavors, images, vm instances, projects, IaaS clouds available as part of your federated cloudmesh infrastructure. Some examples in this document lets you understand what information can be viewed in the cm command line shell.\n"
     ]
    },
    {
     "cell_type": "markdown",
     "metadata": {},
     "source": [
      "<button type=\"button\" class=\"btn btn-default navbar-btn\">[Notebook](http://localhost:8888/notebooks/docs/source/cloudmesh/api/_list.ipynb)</button>"
     ]
    },
    {
     "cell_type": "code",
     "collapsed": false,
     "input": [
      "import cloudmesh"
     ],
     "language": "python",
     "metadata": {},
     "outputs": [],
     "prompt_number": 1
    },
    {
     "cell_type": "code",
     "collapsed": false,
     "input": [
      "cloudmesh.shell('help list')"
     ],
     "language": "python",
     "metadata": {},
     "outputs": [
      {
       "metadata": {},
       "output_type": "pyout",
       "prompt_number": 3,
       "text": [
        "List available flavors, images, vms, projects and clouds\n",
        "\n",
        "    Usage:\n",
        "        list flavor [CLOUD|--all] [--refresh] [--format=FORMAT]\n",
        "        [--column=COLUMN]\n",
        "        list image [CLOUD|--all] [--refresh] [--format=FORMAT] [--column=COLUMN]\n",
        "        list vm [CLOUD|--all] [--refresh] [--format=FORMAT] [--column=COLUMN]\n",
        "        list project\n",
        "        list cloud [--column=COLUMN]\n",
        "\n",
        "    Arguments:\n",
        "\n",
        "        CLOUD    the name of the cloud e.g. alamo, india\n",
        "\n",
        "    Options:\n",
        "\n",
        "        -v         verbose mode\n",
        "        --all      list information of all active clouds\n",
        "        --refresh  refresh data before list\n",
        "\n",
        "        --column=COLUMN        specify what information to display in\n",
        "                               the columns of the list command. For\n",
        "                               example, --column=active,label prints\n",
        "                               the columns active and label. Available\n",
        "                               columns are active, label, host,\n",
        "                               type/version, type, heading, user,\n",
        "                               credentials, defaults (all to display\n",
        "                               all, email to display all except\n",
        "                               credentials and defaults)\n",
        "\n",
        "        --format=FORMAT         output format: table, json, csv\n",
        "\n",
        "    Description:\n",
        "\n",
        "        List clouds and projects information, if the CLOUD argument is not specified, the\n",
        "        selected default cloud will be used. You can interactively set the default cloud with the command\n",
        "        'cloud select'.\n",
        "\n",
        "        list flavor\n",
        "        : list the flavors\n",
        "        list image\n",
        "        : list the images\n",
        "        list vm\n",
        "        : list the vms\n",
        "        list project\n",
        "        : list the projects\n",
        "        list cloud\n",
        "        : same as cloud list\n",
        "\n",
        "    See Also:\n",
        "\n",
        "        man cloud\n",
        "\n"
       ]
      }
     ],
     "prompt_number": 3
    },
    {
     "cell_type": "markdown",
     "metadata": {},
     "source": [
      "Listing flavors\n",
      "----------------\n",
      "\n",
      "You can see available flavors with *list flavor* command."
     ]
    },
    {
     "cell_type": "code",
     "collapsed": false,
     "input": [
      "print cloudmesh.shell(\"list flavor india\")"
     ],
     "language": "python",
     "metadata": {},
     "outputs": [
      {
       "output_type": "stream",
       "stream": "stdout",
       "text": [
        "+------+-----------+---------+-------+--------+----------------------+\n",
        "|   id | name      |   vcpus |   ram |   disk | refresh time         |\n",
        "+======+===========+=========+=======+========+======================+\n",
        "|    1 | m1.tiny   |       1 |   512 |      0 | 2014-09-05T09-28-34Z |\n",
        "+------+-----------+---------+-------+--------+----------------------+\n",
        "|    3 | m1.medium |       2 |  4096 |     40 | 2014-09-05T09-28-34Z |\n",
        "+------+-----------+---------+-------+--------+----------------------+\n",
        "|    2 | m1.small  |       1 |  2048 |     20 | 2014-09-05T09-28-34Z |\n",
        "+------+-----------+---------+-------+--------+----------------------+\n",
        "|    5 | m1.xlarge |       8 | 16384 |    160 | 2014-09-05T09-28-34Z |\n",
        "+------+-----------+---------+-------+--------+----------------------+\n",
        "|    4 | m1.large  |       4 |  8192 |     80 | 2014-09-05T09-28-34Z |\n",
        "+------+-----------+---------+-------+--------+----------------------+\n",
        "\n"
       ]
      }
     ],
     "prompt_number": 15
    },
    {
     "cell_type": "markdown",
     "metadata": {},
     "source": [
      "As you can see, you may need to specify cloud name to see, for example *sierra_openstack_grizzly* in this example."
     ]
    },
    {
     "cell_type": "markdown",
     "metadata": {},
     "source": [
      "Listing images\n",
      "---------------\n",
      "\n",
      "You can see available images with *list image* command."
     ]
    },
    {
     "cell_type": "code",
     "collapsed": false,
     "input": [
      "print cloudmesh.shell(\"list image india --column=name,id\")"
     ],
     "language": "python",
     "metadata": {},
     "outputs": [
      {
       "output_type": "stream",
       "stream": "stdout",
       "text": [
        "+----------------------------------------------------+--------------------------------------+\n",
        "| name                                               | id                                   |\n",
        "+====================================================+======================================+\n",
        "| salsahpc/cloud-mooc-m1-large-4GB                   | 384ca88c-f674-4d3d-999f-353fc6915608 |\n",
        "+----------------------------------------------------+--------------------------------------+\n",
        "| CentOS6                                            | ad35042c-d242-4514-bde0-138718b5aa3e |\n",
        "+----------------------------------------------------+--------------------------------------+\n",
        "| SL64-blank-sparse10gb-C vmdk                       | f480f1e7-38af-4410-bc13-6a1e43bf58ba |\n",
        "+----------------------------------------------------+--------------------------------------+\n",
        "| fg7/rynge/centos6-v1                               | ac464f65-7175-44df-9e0e-34b1a32f8a2a |\n",
        "+----------------------------------------------------+--------------------------------------+\n",
        "| futuresystems/centos-6                                | 81b27cb5-4f8b-4583-afd4-1901053f6a28 |\n",
        "+----------------------------------------------------+--------------------------------------+\n",
        "| grp17Cent                                          | 650a3716-e4b9-4da7-a2f7-7e9a67a971b0 |\n",
        "+----------------------------------------------------+--------------------------------------+\n",
        "| DaLiAna-vm2014e-geant4.10.vmdk Jan best            | f4f9821f-881b-433a-97ab-1ad87273c5fc |\n",
        "+----------------------------------------------------+--------------------------------------+\n",
        "| ubuntu-13.10                                       | cd844b12-f138-414a-8cd5-2c977f0a2379 |\n",
        "+----------------------------------------------------+--------------------------------------+\n",
        "| futuresystems/ubuntu-14.04                            | ba327564-5969-4309-b3f3-b67764038e66 |\n",
        "+----------------------------------------------------+--------------------------------------+\n",
        "| fg101/richieriee/my-ubuntu-01                      | 7915f335-d1a9-4380-a9f3-159eb67d721e |\n",
        "+----------------------------------------------------+--------------------------------------+\n",
        "| fg419/hsiychen/ubuntu-master                       | 0f6aa6b4-0594-4d79-855e-94f748add164 |\n",
        "+----------------------------------------------------+--------------------------------------+\n",
        "| sl64-gluex-vm2014e-40gb.vmdk Justin                | f51fc1e4-d495-4376-824b-19000c41abef |\n",
        "+----------------------------------------------------+--------------------------------------+\n",
        "| futuresystems/fedora-19                               | 6e9322df-fcb2-4ac8-bd02-1d39c6f6919f |\n",
        "+----------------------------------------------------+--------------------------------------+\n",
        "| fg10/jcharcal/centos6.5_x86_64                     | 28f2ad75-8f42-4079-85e1-3d4fe986317f |\n",
        "+----------------------------------------------------+--------------------------------------+\n",
        "| balewski/kernel-2.6.32-431.5.1-sl65                | 00e935c3-82a6-499c-9056-6db37d27439b |\n",
        "+----------------------------------------------------+--------------------------------------+\n",
        "| SL64-blank-sparse40GB vmdk                         | 882871a5-3157-426a-b7bc-10cca91860f0 |\n",
        "+----------------------------------------------------+--------------------------------------+\n",
        "| Ubuntu-12.04-blank2.vmdk                           | b49324f8-d2c3-413a-8f8c-83b498e815f6 |\n",
        "+----------------------------------------------------+--------------------------------------+\n",
        "| balewski/ramdisk-2.6.32-431.5.1-sl65               | 9589cf93-f0e6-45d8-930f-63dd2d9c2f1a |\n",
        "+----------------------------------------------------+--------------------------------------+\n",
        "| sl6_x64-qemu  french ?bad                          | c9ca9852-dfcb-4ceb-a164-a58c89594551 |\n",
        "+----------------------------------------------------+--------------------------------------+\n",
        "| balewski/sl6.5-blank-80gb-b works                  | 5cb90f55-c3a1-468b-b60a-0ecd589baf31 |\n",
        "+----------------------------------------------------+--------------------------------------+\n",
        "| futuresystems/ubuntu-12.04                            | 9cd8cc0d-96cd-44b8-a307-8b574c899ef4 |\n",
        "+----------------------------------------------------+--------------------------------------+\n",
        "| ndssl-vt/ubuntu-12.04-small                        | b9455041-407b-488b-a3f1-5dce6c480b5a |\n",
        "+----------------------------------------------------+--------------------------------------+\n",
        "| futuresystems/fedora-20                               | 68a5d085-ea4d-42c4-800f-2017309989ae |\n",
        "+----------------------------------------------------+--------------------------------------+\n",
        "| cglmoocs/ipython                                   | 0eff8bfc-e455-429e-9dfb-e16488d410f9 |\n",
        "+----------------------------------------------------+--------------------------------------+\n",
        "| balewski/daliana-vm2014e2-sl6.5-geant4.10-root5.34 | 64866d96-8a9e-4d7c-983f-90b0bb594310 |\n",
        "+----------------------------------------------------+--------------------------------------+\n",
        "| DaLiAna-vm2014d-SL64-A.vmdk                        | ff5bb4de-d7e9-4bfb-b42b-cec9ed8d2d08 |\n",
        "+----------------------------------------------------+--------------------------------------+\n",
        "\n"
       ]
      }
     ],
     "prompt_number": 16
    },
    {
     "cell_type": "markdown",
     "metadata": {},
     "source": [
      "With the --column option, you can select particular value(s) to view.\n",
      "In this example, we choose name, id, updated columns to view.\n",
      "\n",
      "* Note that *--column=[column names separated by comma (,)]* displays one or more columns selected\n",
      "  or *--column=all* displays all columns."
     ]
    },
    {
     "cell_type": "markdown",
     "metadata": {},
     "source": [
      "Listing vm instances\n",
      "------------------------\n",
      "\n",
      "*list vm* command provides the status of scheduled/launched/terminated virtual machines."
     ]
    },
    {
     "cell_type": "code",
     "collapsed": false,
     "input": [
      "print cloudmesh.shell(\"list vm india --column=status,name,address,flavor,id,created\")"
     ],
     "language": "python",
     "metadata": {},
     "outputs": [
      {
       "output_type": "stream",
       "stream": "stdout",
       "text": [
        "+--------------+----------+--------------------------------------+----------+----------------------+\n",
        "| name         | status   | id                                   | flavor   | created              |\n",
        "+==============+==========+======================================+==========+======================+\n",
        "| gvonlasz-002 | ACTIVE   | 211563da-7d18-41f1-85b7-eb959dbe1c75 | m1.small | 2014-09-12T19:50:55Z |\n",
        "+--------------+----------+--------------------------------------+----------+----------------------+\n",
        "\n"
       ]
      }
     ],
     "prompt_number": 4
    },
    {
     "cell_type": "markdown",
     "metadata": {},
     "source": [
      "### JSON format output\n",
      "\n",
      "\n",
      "With *--format=json* option, the result is displayed in json."
     ]
    },
    {
     "cell_type": "code",
     "collapsed": false,
     "input": [
      "print cloudmesh.shell(\"list vm india --format=json\")"
     ],
     "language": "python",
     "metadata": {},
     "outputs": []
    },
    {
     "cell_type": "markdown",
     "metadata": {},
     "source": [
      "If you use *--format* option, the result will be displayed in the selected format.\n",
      "At this time, *--format* supports 'json' and 'table' formats. csv or html might be added later."
     ]
    },
    {
     "cell_type": "markdown",
     "metadata": {},
     "source": [
      "Options\n",
      "-----------\n",
      "\n",
      "Some options provide different output of *list* command.\n",
      "\n",
      "* --all: list information for all clouds. [CLOUD] name is not required.\n",
      "* --refresh: update the information from the server. Cached data in the mongo db will be updated.\n",
      "* --column=COLUMN: column name(s) separated by comma (,) to view the selected information. --column=all displays all.\n",
      "* --format=FORMAT: output format, table, json is available."
     ]
    }
   ],
   "metadata": {}
  }
 ]
}