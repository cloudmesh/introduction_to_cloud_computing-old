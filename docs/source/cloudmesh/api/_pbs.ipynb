{
 "metadata": {
  "name": "",
  "signature": "sha256:24d8bc50824ec2c5841da6e5b42d61302aa90b2ea87ddca0caafcefde0233783"
 },
 "nbformat": 3,
 "nbformat_minor": 0,
 "worksheets": [
  {
   "cells": [
    {
     "cell_type": "heading",
     "level": 1,
     "metadata": {},
     "source": [
      "Batch Queues"
     ]
    },
    {
     "cell_type": "markdown",
     "metadata": {},
     "source": [
      "<button type=\"button\" class=\"btn btn-default navbar-btn\">[Notebook](http://localhost:8888/notebooks/docs/source/cloudmesh/api/_pbs.ipynb)</button>"
     ]
    },
    {
     "cell_type": "markdown",
     "metadata": {},
     "source": [
      "Cloudmesh includes a convenient interface to PBS qstat. It is using an ssh command to connect to the login node on which to execute qstat. The result of the call is available as a dict and you can print it to inspect it closer. \n",
      "\n",
      "In addition cloudmesh has a customization that alloes resources in FutureSystems to be seperated by machine. This is necessary as the login node on india is also in control of the queues on a number of machines instead of just one. \n",
      "\n",
      "The username for FutureSystems is loaded from the configuration yaml file in the example"
     ]
    },
    {
     "cell_type": "code",
     "collapsed": false,
     "input": [
      "import cloudmesh"
     ],
     "language": "python",
     "metadata": {},
     "outputs": [],
     "prompt_number": 2
    },
    {
     "cell_type": "code",
     "collapsed": false,
     "input": [
      "username = cloudmesh.load().username()"
     ],
     "language": "python",
     "metadata": {},
     "outputs": [],
     "prompt_number": 3
    },
    {
     "cell_type": "code",
     "collapsed": false,
     "input": [
      "india = cloudmesh.PBS(username, \"india.futuresystems.org\")"
     ],
     "language": "python",
     "metadata": {},
     "outputs": [],
     "prompt_number": 6
    },
    {
     "cell_type": "heading",
     "level": 3,
     "metadata": {},
     "source": [
      "QStat"
     ]
    },
    {
     "cell_type": "code",
     "collapsed": false,
     "input": [
      "qstat = india.qstat()"
     ],
     "language": "python",
     "metadata": {},
     "outputs": [
      {
       "ename": "RuntimeError",
       "evalue": "can not execute pbs qstat on host india.futuresystems.org",
       "output_type": "pyerr",
       "traceback": [
        "\u001b[0;31m---------------------------------------------------------------------------\u001b[0m\n\u001b[0;31mRuntimeError\u001b[0m                              Traceback (most recent call last)",
        "\u001b[0;32m<ipython-input-7-cfa496304576>\u001b[0m in \u001b[0;36m<module>\u001b[0;34m()\u001b[0m\n\u001b[0;32m----> 1\u001b[0;31m \u001b[0mqstat\u001b[0m \u001b[0;34m=\u001b[0m \u001b[0mindia\u001b[0m\u001b[0;34m.\u001b[0m\u001b[0mqstat\u001b[0m\u001b[0;34m(\u001b[0m\u001b[0;34m)\u001b[0m\u001b[0;34m\u001b[0m\u001b[0m\n\u001b[0m",
        "\u001b[0;32m/Users/flat/ENV/lib/python2.7/site-packages/cloudmesh-1.0-py2.7.egg/cloudmesh/pbs/pbs.pyc\u001b[0m in \u001b[0;36mqstat\u001b[0;34m(self, refresh)\u001b[0m\n\u001b[1;32m    285\u001b[0m             \u001b[0;32mexcept\u001b[0m\u001b[0;34m:\u001b[0m\u001b[0;34m\u001b[0m\u001b[0m\n\u001b[1;32m    286\u001b[0m                 raise RuntimeError(\n\u001b[0;32m--> 287\u001b[0;31m                     \"can not execute pbs qstat on host {0}\".format(self.host))\n\u001b[0m\u001b[1;32m    288\u001b[0m             \u001b[0minfo\u001b[0m \u001b[0;34m=\u001b[0m \u001b[0;34m{\u001b[0m\u001b[0;34m}\u001b[0m\u001b[0;34m\u001b[0m\u001b[0m\n\u001b[1;32m    289\u001b[0m \u001b[0;34m\u001b[0m\u001b[0m\n",
        "\u001b[0;31mRuntimeError\u001b[0m: can not execute pbs qstat on host india.futuresystems.org"
       ]
      }
     ],
     "prompt_number": 7
    },
    {
     "cell_type": "markdown",
     "metadata": {},
     "source": [
      "Next, let us list the nuber of clusters managed with the india PBS deployment"
     ]
    },
    {
     "cell_type": "code",
     "collapsed": false,
     "input": [
      "qstat.keys()"
     ],
     "language": "python",
     "metadata": {},
     "outputs": []
    },
    {
     "cell_type": "code",
     "collapsed": false,
     "input": [
      "qstat[\"india.futuresystems.org\"].keys()"
     ],
     "language": "python",
     "metadata": {},
     "outputs": []
    },
    {
     "cell_type": "code",
     "collapsed": false,
     "input": [
      "for jobname in qstat[\"india.futuresystems.org\"]:\n",
      "    job = qstat[\"india.futuresystems.org\"][jobname]\n",
      "    print jobname, job[\"job_state\"]"
     ],
     "language": "python",
     "metadata": {},
     "outputs": []
    },
    {
     "cell_type": "heading",
     "level": 3,
     "metadata": {},
     "source": [
      "QInfo"
     ]
    },
    {
     "cell_type": "code",
     "collapsed": false,
     "input": [
      "qinfo = india.qinfo()"
     ],
     "language": "python",
     "metadata": {},
     "outputs": []
    },
    {
     "cell_type": "markdown",
     "metadata": {},
     "source": [
      "To list the queue names, simply print the keys. "
     ]
    },
    {
     "cell_type": "code",
     "collapsed": false,
     "input": [
      "print qinfo[\"india.futuresystems.org\"].keys()"
     ],
     "language": "python",
     "metadata": {},
     "outputs": []
    },
    {
     "cell_type": "markdown",
     "metadata": {},
     "source": [
      "More information is available when you inspect the dict."
     ]
    }
   ],
   "metadata": {}
  }
 ]
}
