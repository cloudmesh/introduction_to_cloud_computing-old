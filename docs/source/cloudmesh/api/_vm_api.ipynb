{
 "metadata": {
  "name": "",
  "signature": "sha256:94f515f428b129470303c30347c580667e91364347b3b837eeb0a924c5ce36d6"
 },
 "nbformat": 3,
 "nbformat_minor": 0,
 "worksheets": [
  {
   "cells": [
    {
     "cell_type": "heading",
     "level": 1,
     "metadata": {},
     "source": [
      "Cloudmesh API for VM Management"
     ]
    },
    {
     "cell_type": "markdown",
     "metadata": {},
     "source": [
      "<button type=\"button\" class=\"btn btn-default navbar-btn\">[Notebook](http://localhost:8888/notebooks/docs/source/cloudmesh/api/_vm_api.ipynb)</button>"
     ]
    },
    {
     "cell_type": "markdown",
     "metadata": {},
     "source": [
      "Cloudmesh supports the simple management of heterogeneous virtual machines from a variety of cloud frameworks, including Openstack, Azure, AWS, Eucalyptus and but also AWS compatible clouds. This page shows how to use Cloudmesh functions in python by a couple of examples on starting or stopping virtual machine instances through the APIs."
     ]
    },
    {
     "cell_type": "heading",
     "level": 2,
     "metadata": {},
     "source": [
      "Initialization"
     ]
    },
    {
     "cell_type": "markdown",
     "metadata": {},
     "source": [
      "A simple import allows you to enable all features of Cloudmesh in Python."
     ]
    },
    {
     "cell_type": "code",
     "collapsed": false,
     "input": [
      "import cloudmesh"
     ],
     "language": "python",
     "metadata": {},
     "outputs": [],
     "prompt_number": 1
    },
    {
     "cell_type": "code",
     "collapsed": false,
     "input": [
      "from pprint import pprint"
     ],
     "language": "python",
     "metadata": {},
     "outputs": [],
     "prompt_number": 2
    },
    {
     "cell_type": "heading",
     "level": 2,
     "metadata": {},
     "source": [
      "Activating Clouds"
     ]
    },
    {
     "cell_type": "markdown",
     "metadata": {},
     "source": [
      "Cloudmesh provides *yaml* or *mongo* option where to load basic information. *yaml* relies on the yaml files in the $HOME/.cloudmesh directory, *mongo* retrieves information from the mongo database."
     ]
    },
    {
     "cell_type": "code",
     "collapsed": false,
     "input": [
      "mesh = cloudmesh.mesh(\"mongo\")"
     ],
     "language": "python",
     "metadata": {},
     "outputs": [],
     "prompt_number": 3
    },
    {
     "cell_type": "heading",
     "level": 3,
     "metadata": {},
     "source": [
      "Get a username"
     ]
    },
    {
     "cell_type": "markdown",
     "metadata": {},
     "source": [
      "In most Cloudmesh functions, you need to provide a username to tell the server who is going to use cloud services."
     ]
    },
    {
     "cell_type": "code",
     "collapsed": false,
     "input": [
      "username = cloudmesh.load().username()"
     ],
     "language": "python",
     "metadata": {},
     "outputs": [],
     "prompt_number": 4
    },
    {
     "cell_type": "code",
     "collapsed": false,
     "input": [
      "print username"
     ],
     "language": "python",
     "metadata": {},
     "outputs": [
      {
       "output_type": "stream",
       "stream": "stdout",
       "text": [
        "gvonlasz\n"
       ]
      }
     ],
     "prompt_number": 5
    },
    {
     "cell_type": "heading",
     "level": 3,
     "metadata": {},
     "source": [
      "Activate the user account"
     ]
    },
    {
     "cell_type": "markdown",
     "metadata": {},
     "source": [
      "With the activation, the connection to IaaS cloud is established."
     ]
    },
    {
     "cell_type": "code",
     "collapsed": false,
     "input": [
      "mesh.activate(username)"
     ],
     "language": "python",
     "metadata": {},
     "outputs": [
      {
       "output_type": "stream",
       "stream": "stdout",
       "text": [
        "* india\n",
        "Refreshing gvonlasz servers india ->\n",
        "Refresh time:"
       ]
      },
      {
       "output_type": "stream",
       "stream": "stdout",
       "text": [
        " 0.305170059204\n",
        "Store time: 0.00300216674805\n"
       ]
      }
     ],
     "prompt_number": 6
    },
    {
     "cell_type": "heading",
     "level": 3,
     "metadata": {},
     "source": [
      "Register a cloud"
     ]
    },
    {
     "cell_type": "code",
     "collapsed": false,
     "input": [
      "cloudmesh.shell(\"cloud on india\")"
     ],
     "language": "python",
     "metadata": {},
     "outputs": [
      {
       "metadata": {},
       "output_type": "pyout",
       "prompt_number": 7,
       "text": [
        "* india\n",
        "Refreshing gvonlasz servers india ->\n",
        "Refresh time: 0.282967090607\n",
        "Store time: 0.00245690345764\n",
        "\u001b[32mcloud 'india' activated.\u001b[0m"
       ]
      }
     ],
     "prompt_number": 7
    },
    {
     "cell_type": "code",
     "collapsed": false,
     "input": [
      "cloudmesh.shell(\"cloud list\")"
     ],
     "language": "python",
     "metadata": {},
     "outputs": [
      {
       "metadata": {},
       "output_type": "pyout",
       "prompt_number": 8,
       "text": [
        "+-----------+--------+\n",
        "| cloud     | active |\n",
        "+-----------+--------+\n",
        "| aws       |        |\n",
        "| azure     |        |\n",
        "| devstack  |        |\n",
        "| dreamhost |        |\n",
        "| hp        |        |\n",
        "| hp_east   |        |\n",
        "| india     | True   |\n",
        "+-----------+--------+"
       ]
      }
     ],
     "prompt_number": 8
    },
    {
     "cell_type": "markdown",
     "metadata": {},
     "source": [
      "Each cloud must have a default image and a default flavor to launch vm instances in a simple step. default function provides a way to set default values for an image o a flavor.\n",
      "In this example, we use *image*, *flavor* variables which created from the examples above."
     ]
    },
    {
     "cell_type": "heading",
     "level": 3,
     "metadata": {},
     "source": [
      "Need a help for the function?"
     ]
    },
    {
     "cell_type": "markdown",
     "metadata": {},
     "source": [
      "You can execute a cell with a function name and a single question mark (?) to see a short description of a function.\n",
      "A double question marks (??) provide a source code with a docstring of the function.\n",
      "Try *mesh.default?*\n",
      "or\n",
      "*mesh.default??*"
     ]
    },
    {
     "cell_type": "heading",
     "level": 2,
     "metadata": {},
     "source": [
      "Get Flavors or Images"
     ]
    },
    {
     "cell_type": "markdown",
     "metadata": {},
     "source": [
      "Cloudmesh retrieves information from a cache that need to be refreshed in case you like to get the newest values. At the beginning you have to call refresh so that he information from the cloud is populated into the cache."
     ]
    },
    {
     "cell_type": "code",
     "collapsed": false,
     "input": [
      "mesh.refresh(username,types=['flavors', 'images'],names=[\"india\"])"
     ],
     "language": "python",
     "metadata": {},
     "outputs": [
      {
       "output_type": "stream",
       "stream": "stdout",
       "text": [
        "* india\n",
        "Refreshing gvonlasz flavors india ->\n",
        "Refresh time:"
       ]
      },
      {
       "output_type": "stream",
       "stream": "stdout",
       "text": [
        " 0.179011821747\n",
        "Store time: 0.00220489501953\n",
        "Refreshing gvonlasz images india ->\n",
        "Refresh time:"
       ]
      },
      {
       "output_type": "stream",
       "stream": "stdout",
       "text": [
        " 0.43066906929\n",
        "Store time: 0.00897192955017\n"
       ]
      }
     ],
     "prompt_number": 9
    },
    {
     "cell_type": "markdown",
     "metadata": {},
     "source": [
      "Available flavors can be listed with the following function. "
     ]
    },
    {
     "cell_type": "code",
     "collapsed": false,
     "input": [
      "flavors = mesh.flavors(cm_user_id=username, clouds=[\"india\"])"
     ],
     "language": "python",
     "metadata": {},
     "outputs": [],
     "prompt_number": 10
    },
    {
     "cell_type": "markdown",
     "metadata": {},
     "source": [
      "Let us display the names of the flavors"
     ]
    },
    {
     "cell_type": "markdown",
     "metadata": {},
     "source": [
      "The functions about vm images provide an available vm images on a selected cloud."
     ]
    },
    {
     "cell_type": "code",
     "collapsed": false,
     "input": [
      "for id in flavors[\"india\"]:\n",
      "    print flavors[\"india\"][id][\"name\"]"
     ],
     "language": "python",
     "metadata": {},
     "outputs": [
      {
       "output_type": "stream",
       "stream": "stdout",
       "text": [
        "m1.tiny\n",
        "m1.medium\n",
        "m1.small\n",
        "m1.xlarge\n",
        "m1.large\n"
       ]
      }
     ],
     "prompt_number": 11
    },
    {
     "cell_type": "code",
     "collapsed": false,
     "input": [
      "images = mesh.images(clouds=['india'],cm_user_id=username)"
     ],
     "language": "python",
     "metadata": {},
     "outputs": [],
     "prompt_number": 12
    },
    {
     "cell_type": "code",
     "collapsed": false,
     "input": [
      "for id in images[\"india\"]:\n",
      "    print images[\"india\"][id][\"name\"]"
     ],
     "language": "python",
     "metadata": {},
     "outputs": [
      {
       "output_type": "stream",
       "stream": "stdout",
       "text": [
        "salsahpc/cloud-mooc-m1-large-4GB\n",
        "CentOS6\n",
        "SL64-blank-sparse10gb-C vmdk\n",
        "cglmoocs/ipython\n",
        "futuresystems/centos-6\n",
        "DaLiAna-vm2014e-geant4.10.vmdk Jan best\n",
        "ubuntu-13.10\n",
        "futuresystems/ubuntu-14.04\n",
        "fg101/richieriee/my-ubuntu-01\n",
        "sl64-gluex-vm2014e-40gb.vmdk Justin\n",
        "futuresystems/fedora-19\n",
        "fg10/jcharcal/centos6.5_x86_64\n",
        "balewski/kernel-2.6.32-431.5.1-sl65\n",
        "SL64-blank-sparse40GB vmdk\n",
        "Ubuntu-12.04-blank2.vmdk\n",
        "balewski/ramdisk-2.6.32-431.5.1-sl65\n",
        "sl6_x64-qemu  french ?bad\n",
        "balewski/sl6.5-blank-80gb-b works\n",
        "grp17Cent\n",
        "futuresystems/ubuntu-12.04\n",
        "ndssl-vt/ubuntu-12.04-small\n",
        "futuresystems/fedora-20\n",
        "fg7/rynge/centos6-v1\n",
        "ubuntu12-comet\n",
        "balewski/daliana-vm2014e2-sl6.5-geant4.10-root5.34\n",
        "DaLiAna-vm2014d-SL64-A.vmdk\n"
       ]
      }
     ],
     "prompt_number": 13
    },
    {
     "cell_type": "heading",
     "level": 3,
     "metadata": {},
     "source": [
      "Select a flavor"
     ]
    },
    {
     "cell_type": "markdown",
     "metadata": {},
     "source": [
      "Flavor is also selectable. The selected image or flavor can be used to set a default image or a default flavor."
     ]
    },
    {
     "cell_type": "code",
     "collapsed": false,
     "input": [
      "flavor = mesh.flavor('india', 'm1.small')"
     ],
     "language": "python",
     "metadata": {},
     "outputs": [],
     "prompt_number": 14
    },
    {
     "cell_type": "heading",
     "level": 3,
     "metadata": {},
     "source": [
      "Select an image"
     ]
    },
    {
     "cell_type": "markdown",
     "metadata": {},
     "source": [
      "If you know the name of the vm image, you can specify the vm image to user it later. In this example, we choose Ubuntu trusty 14.04 image."
     ]
    },
    {
     "cell_type": "code",
     "collapsed": false,
     "input": [
      "image=mesh.image('india','futuresystems/ubuntu-14.04')"
     ],
     "language": "python",
     "metadata": {},
     "outputs": [],
     "prompt_number": 15
    },
    {
     "cell_type": "heading",
     "level": 2,
     "metadata": {},
     "source": [
      "Set a default flavor or image"
     ]
    },
    {
     "cell_type": "code",
     "collapsed": false,
     "input": [
      "defaults = mesh.default('india', 'image', image)"
     ],
     "language": "python",
     "metadata": {},
     "outputs": [],
     "prompt_number": 16
    },
    {
     "cell_type": "code",
     "collapsed": false,
     "input": [
      "defaults = mesh.default('india', 'flavor', flavor)"
     ],
     "language": "python",
     "metadata": {},
     "outputs": [],
     "prompt_number": 17
    },
    {
     "cell_type": "code",
     "collapsed": false,
     "input": [
      "pprint(defaults)"
     ],
     "language": "python",
     "metadata": {},
     "outputs": [
      {
       "output_type": "stream",
       "stream": "stdout",
       "text": [
        "{u'_id': ObjectId('54242b0b6d8fecaafd838a11'),\n",
        " u'activeclouds': [u'india'],\n",
        " u'cm_user_id': u'gvonlasz',\n",
        " u'flavors': {u'india': u'2'},\n",
        " u'group': None,\n",
        " u'images': {u'india': u'ba327564-5969-4309-b3f3-b67764038e66'},\n",
        " u'index': u'41',\n",
        " u'key': u'flat-key',\n",
        " u'pagestatus': {u'india': u'true'},\n",
        " u'prefix': u'gvonlasz',\n",
        " u'project': u'fg82',\n",
        " u'registered_clouds': [u'india'],\n",
        " u'securitygroup': u'development',\n",
        " u'shell_print_format': u'table'}\n"
       ]
      }
     ],
     "prompt_number": 18
    },
    {
     "cell_type": "code",
     "collapsed": false,
     "input": [
      "image = \"futuresystems/ubuntu-14.04\""
     ],
     "language": "python",
     "metadata": {},
     "outputs": [],
     "prompt_number": 19
    },
    {
     "cell_type": "code",
     "collapsed": false,
     "input": [
      "flavor = \"m1.small\""
     ],
     "language": "python",
     "metadata": {},
     "outputs": [],
     "prompt_number": 20
    },
    {
     "cell_type": "code",
     "collapsed": false,
     "input": [
      "cloud = \"india\""
     ],
     "language": "python",
     "metadata": {},
     "outputs": [],
     "prompt_number": 21
    },
    {
     "cell_type": "heading",
     "level": 2,
     "metadata": {},
     "source": [
      "Quick Start a VM"
     ]
    },
    {
     "cell_type": "markdown",
     "metadata": {},
     "source": [
      "A simple function *start* provides a quick launch of vm instances in cloudmesh."
     ]
    },
    {
     "cell_type": "code",
     "collapsed": false,
     "input": [
      "result = mesh.start(\"india\", username)"
     ],
     "language": "python",
     "metadata": {},
     "outputs": [],
     "prompt_number": 22
    },
    {
     "cell_type": "code",
     "collapsed": false,
     "input": [
      "pprint (result)"
     ],
     "language": "python",
     "metadata": {},
     "outputs": [
      {
       "output_type": "stream",
       "stream": "stdout",
       "text": [
        "{'cloud': 'india',\n",
        " 'cm_user_id': 'gvonlasz',\n",
        " 'flavor': u'm1.small',\n",
        " 'flavor_id': u'2',\n",
        " 'image': u'futuresystems/ubuntu-14.04',\n",
        " 'image_id': u'ba327564-5969-4309-b3f3-b67764038e66',\n",
        " 'key': u'gvonlasz_flat-key',\n",
        " 'name': u'gvonlasz_41',\n",
        " u'server': {u'OS-DCF:diskConfig': u'MANUAL',\n",
        "             u'adminPass': u'J6fnixrXGk5e',\n",
        "             u'id': u'7547ecc9-61b8-42a4-9dac-0064a7407a63',\n",
        "             u'links': [{u'href': u'http://149.165.146.57:8774/v1.1/8bc7e259464944b3bf4d8b050d1ab935/servers/7547ecc9-61b8-42a4-9dac-0064a7407a63',\n",
        "                         u'rel': u'self'},\n",
        "                        {u'href': u'http://149.165.146.57:8774/8bc7e259464944b3bf4d8b050d1ab935/servers/7547ecc9-61b8-42a4-9dac-0064a7407a63',\n",
        "                         u'rel': u'bookmark'}],\n",
        "             u'security_groups': [{u'name': u'default'}]}}\n"
       ]
      }
     ],
     "prompt_number": 23
    },
    {
     "cell_type": "heading",
     "level": 2,
     "metadata": {},
     "source": [
      "Delete VM"
     ]
    },
    {
     "cell_type": "code",
     "collapsed": false,
     "input": [
      "server = result['server']['id']"
     ],
     "language": "python",
     "metadata": {},
     "outputs": [],
     "prompt_number": 24
    },
    {
     "cell_type": "code",
     "collapsed": false,
     "input": [
      "mesh.delete(cloud, server, username)"
     ],
     "language": "python",
     "metadata": {},
     "outputs": [
      {
       "metadata": {},
       "output_type": "pyout",
       "prompt_number": 25,
       "text": [
        "{'release_unused_public_ips': True, 'vm_delete': {'msg': 'success'}}"
       ]
      }
     ],
     "prompt_number": 25
    },
    {
     "cell_type": "markdown",
     "metadata": {},
     "source": [
      "If you know the id of the virtual machine that you want to destroy, *delete* function in cloudmesh simply terminate the instance.\n",
      "This example deletes the vm that we just launched above by getting the id from the result dict."
     ]
    },
    {
     "cell_type": "heading",
     "level": 2,
     "metadata": {},
     "source": [
      "Start a VM"
     ]
    },
    {
     "cell_type": "markdown",
     "metadata": {},
     "source": [
      "Now let us see how to start VMs on a cloud, here is how to start a VM on cloud india."
     ]
    },
    {
     "cell_type": "code",
     "collapsed": false,
     "input": [
      "result = mesh.start(cloud=cloud, \n",
      "                    cm_user_id=username,\n",
      "                    flavor=flavor, \n",
      "                    image=image)"
     ],
     "language": "python",
     "metadata": {},
     "outputs": [],
     "prompt_number": 26
    },
    {
     "cell_type": "markdown",
     "metadata": {},
     "source": [
      "You may don\u2019t know what images or flavors are available on the cloud, or you don\u2019t want to type a long line every time you start a VM, things can get a lot easier by performing some setting up."
     ]
    },
    {
     "cell_type": "code",
     "collapsed": false,
     "input": [
      "pprint (result)"
     ],
     "language": "python",
     "metadata": {},
     "outputs": [
      {
       "output_type": "stream",
       "stream": "stdout",
       "text": [
        "{'cloud': 'india',\n",
        " 'cm_user_id': 'gvonlasz',\n",
        " 'flavor': u'm1.small',\n",
        " 'flavor_id': u'2',\n",
        " 'image': u'futuresystems/ubuntu-14.04',\n",
        " 'image_id': u'ba327564-5969-4309-b3f3-b67764038e66',\n",
        " 'key': u'gvonlasz_flat-key',\n",
        " 'name': u'gvonlasz_42',\n",
        " u'server': {u'OS-DCF:diskConfig': u'MANUAL',\n",
        "             u'adminPass': u'ETrauXf83o7M',\n",
        "             u'id': u'45b70984-12e1-40ec-a809-f46923ee3eac',\n",
        "             u'links': [{u'href': u'http://149.165.146.57:8774/v1.1/8bc7e259464944b3bf4d8b050d1ab935/servers/45b70984-12e1-40ec-a809-f46923ee3eac',\n",
        "                         u'rel': u'self'},\n",
        "                        {u'href': u'http://149.165.146.57:8774/8bc7e259464944b3bf4d8b050d1ab935/servers/45b70984-12e1-40ec-a809-f46923ee3eac',\n",
        "                         u'rel': u'bookmark'}],\n",
        "             u'security_groups': [{u'name': u'default'}]}}\n"
       ]
      }
     ],
     "prompt_number": 27
    },
    {
     "cell_type": "code",
     "collapsed": false,
     "input": [],
     "language": "python",
     "metadata": {},
     "outputs": []
    },
    {
     "cell_type": "heading",
     "level": 2,
     "metadata": {},
     "source": [
      "More options to launch a VM instance"
     ]
    },
    {
     "cell_type": "markdown",
     "metadata": {},
     "source": [
      "When you create a new VM instance, you can also choose multiple options such as a flavor, an image, or a key associated with the instance. *start()* function accepts keyword parameters as a user input of these options. To see a brief description of the function, try *mesh.start?* in the IPython Notebook cell.\n",
      "\n",
      "Available options are:\n",
      "with\n",
      "* `cloud`: cloud id e.g. india\n",
      "* `cm_user_id`: portal user id\n",
      "* `prefix`: The VM instance name starts \n",
      "* `index`: The number of vm instances (auto increment), if you set this make sure it is higher than the last index, as it \n",
      "   will aslo set the default index\n",
      "* `flavor`: flavor name e.g. m1.small\n",
      "* `image`: image name e.g. futuresystems/ubuntu-14.04\n",
      "* `key`: key name to use\n",
      "* `meta`: data in python dict e.g. {\"cm_user_id\": username}"
     ]
    },
    {
     "cell_type": "markdown",
     "metadata": {},
     "source": [
      "`result = mesh.start(\"india\", username, prefix=username)`"
     ]
    },
    {
     "cell_type": "heading",
     "level": 2,
     "metadata": {},
     "source": [
      "Vitual Machine Name"
     ]
    },
    {
     "cell_type": "markdown",
     "metadata": {},
     "source": [
      "In Cloudmesh, the default VM name consists of your username and an auto incremented number, for example, *alex_1*. Couple of functions allow you to manage or modify the VM name as you wish."
     ]
    },
    {
     "cell_type": "code",
     "collapsed": false,
     "input": [
      "mesh.vmname()"
     ],
     "language": "python",
     "metadata": {},
     "outputs": [
      {
       "metadata": {},
       "output_type": "pyout",
       "prompt_number": 28,
       "text": [
        "u'gvonlasz_43'"
       ]
      }
     ],
     "prompt_number": 28
    },
    {
     "cell_type": "markdown",
     "metadata": {},
     "source": [
      "`vmname()` without parameters returns the current VM name that you can use."
     ]
    },
    {
     "cell_type": "markdown",
     "metadata": {},
     "source": [
      "If you want to use a different name, you can specify prefix='' and idx='' as parameters. However be aware that using this will also reset the default values. Thus if you specify a number that is smaller than the current number in the vms, you may overwrite in time the previos name and end up with duplicated names."
     ]
    },
    {
     "cell_type": "markdown",
     "metadata": {},
     "source": [
      "`mesh.vmname(username, 10)`"
     ]
    },
    {
     "cell_type": "markdown",
     "metadata": {},
     "source": [
      "vmname_next() returns a VM name with an increased index number."
     ]
    },
    {
     "cell_type": "markdown",
     "metadata": {},
     "source": [
      "`mesh.vmname_next()`"
     ]
    },
    {
     "cell_type": "markdown",
     "metadata": {},
     "source": [
      "There are some tricks to update the index number in *vmname()* function."
     ]
    },
    {
     "cell_type": "markdown",
     "metadata": {},
     "source": [
      "`mesh.vmname(username, \"+5\")`"
     ]
    },
    {
     "cell_type": "heading",
     "level": 2,
     "metadata": {},
     "source": [
      "Assign a public IP address to the VM"
     ]
    },
    {
     "cell_type": "markdown",
     "metadata": {},
     "source": [
      "assign_public_ip() function obtains a public IP address and assign it to the VM."
     ]
    },
    {
     "cell_type": "code",
     "collapsed": false,
     "input": [
      "server = result['server']['id']"
     ],
     "language": "python",
     "metadata": {},
     "outputs": [],
     "prompt_number": 32
    },
    {
     "cell_type": "code",
     "collapsed": false,
     "input": [
      "pprint (result['name'])"
     ],
     "language": "python",
     "metadata": {},
     "outputs": [
      {
       "output_type": "stream",
       "stream": "stdout",
       "text": [
        "u'gvonlasz_42'\n"
       ]
      }
     ],
     "prompt_number": 39
    },
    {
     "cell_type": "code",
     "collapsed": false,
     "input": [
      "ip=mesh.assign_public_ip('india', server, username)"
     ],
     "language": "python",
     "metadata": {},
     "outputs": [],
     "prompt_number": 40
    },
    {
     "cell_type": "code",
     "collapsed": false,
     "input": [
      "print ip"
     ],
     "language": "python",
     "metadata": {},
     "outputs": [
      {
       "output_type": "stream",
       "stream": "stdout",
       "text": [
        "149.165.158.31\n"
       ]
      }
     ],
     "prompt_number": 43
    },
    {
     "cell_type": "heading",
     "level": 2,
     "metadata": {},
     "source": [
      "SSH to the VM"
     ]
    },
    {
     "cell_type": "markdown",
     "metadata": {},
     "source": [
      "Once you obtained the public ip address, you can execute a test command via SSH to the VM.\n",
      "You can use wait() function with retry options. Otherwise, you can simply use ssh_execute() function."
     ]
    },
    {
     "cell_type": "code",
     "collapsed": false,
     "input": [
      "result = mesh.wait(ipaddr=ip, interval=2, retry=10)"
     ],
     "language": "python",
     "metadata": {},
     "outputs": [
      {
       "output_type": "stream",
       "stream": "stdout",
       "text": [
        "0 try to execute via ssh...\n"
       ]
      }
     ],
     "prompt_number": 44
    },
    {
     "cell_type": "code",
     "collapsed": false,
     "input": [
      "print result"
     ],
     "language": "python",
     "metadata": {},
     "outputs": [
      {
       "output_type": "stream",
       "stream": "stdout",
       "text": [
        "True\n"
       ]
      }
     ],
     "prompt_number": 45
    },
    {
     "cell_type": "code",
     "collapsed": false,
     "input": [
      "mesh.ssh_execute(ipaddr=ip, command=\"uname -a\")"
     ],
     "language": "python",
     "metadata": {},
     "outputs": [
      {
       "metadata": {},
       "output_type": "pyout",
       "prompt_number": 46,
       "text": [
        "Linux gvonlasz-42 3.13.0-35-generic #62-Ubuntu SMP Fri Aug 15 01:58:42 UTC 2014 x86_64 x86_64 x86_64 GNU/Linux"
       ]
      }
     ],
     "prompt_number": 46
    },
    {
     "cell_type": "markdown",
     "metadata": {},
     "source": [
      ".. warning: there is currently a limitation if the ip has already been added previously added to your known host file. in that case you must remove it first from the ~/.ssh/known_hosts file."
     ]
    },
    {
     "cell_type": "heading",
     "level": 2,
     "metadata": {},
     "source": [
      "Refreshing VM status"
     ]
    },
    {
     "cell_type": "markdown",
     "metadata": {},
     "source": [
      "The information of VM instances can be displayed with `servers()` function."
     ]
    },
    {
     "cell_type": "code",
     "collapsed": false,
     "input": [
      "mesh.refresh(username, names=[\"india\"],types=[\"servers\"])"
     ],
     "language": "python",
     "metadata": {},
     "outputs": [
      {
       "output_type": "stream",
       "stream": "stdout",
       "text": [
        "* india\n",
        "Refreshing gvonlasz servers india ->\n",
        "Refresh time:"
       ]
      },
      {
       "output_type": "stream",
       "stream": "stdout",
       "text": [
        " 0.351860046387\n",
        "Store time: 0.00319504737854\n"
       ]
      }
     ],
     "prompt_number": 47
    },
    {
     "cell_type": "code",
     "collapsed": false,
     "input": [
      "for serverid in mesh.servers(clouds=[\"india\"],cm_user_id=username)[\"india\"].keys():\n",
      "    server =  mesh.servers(clouds=[\"india\"],cm_user_id=username)[\"india\"][serverid]\n",
      "    print server['name']"
     ],
     "language": "python",
     "metadata": {},
     "outputs": [
      {
       "output_type": "stream",
       "stream": "stdout",
       "text": [
        "gvonlasz_39\n",
        "gvonlasz_42\n",
        "gvonlasz_38\n",
        "gvonlasz_40\n",
        "gvonlasz-001\n",
        "gvonlasz_38\n"
       ]
      }
     ],
     "prompt_number": 54
    },
    {
     "cell_type": "code",
     "collapsed": false,
     "input": [],
     "language": "python",
     "metadata": {},
     "outputs": []
    }
   ],
   "metadata": {}
  }
 ]
}