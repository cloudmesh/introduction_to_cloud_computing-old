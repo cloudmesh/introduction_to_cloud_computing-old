{
 "metadata": {
  "name": "",
  "signature": "sha256:ed15e3749d95770490765ad056b067b9fe9a5bb58a20be631848b34b97888cc3"
 },
 "nbformat": 3,
 "nbformat_minor": 0,
 "worksheets": [
  {
   "cells": [
    {
     "cell_type": "heading",
     "level": 1,
     "metadata": {},
     "source": [
      "Deploying Virtual Cluster with Cloudmesh `cm`"
     ]
    },
    {
     "cell_type": "markdown",
     "metadata": {},
     "source": [
      "<button type=\"button\" class=\"btn btn-default navbar-btn\">[Notebook](http://localhost:8888/notebooks/docs/source/cloudmesh/cm/_cm-cluster.ipynb)</button>"
     ]
    },
    {
     "cell_type": "markdown",
     "metadata": {},
     "source": [
      "To support the creation of a virtual compute cluster (e.g. Hadoop or Slurm) on cloudmesh, we are offering the command ```cluster``` to start, configure, manage or update a number of virtual machines."
     ]
    },
    {
     "cell_type": "heading",
     "level": 3,
     "metadata": {},
     "source": [
      "IPython Alias"
     ]
    },
    {
     "cell_type": "markdown",
     "metadata": {},
     "source": [
      "With the alias command we simply define a new command with the name cm that we can call directly from IPython. Here we make sure that the parameters ar between \"\" so that they are properly set. Just execute the following lines. If you do not use ipythin, you can skip this step."
     ]
    },
    {
     "cell_type": "code",
     "collapsed": false,
     "input": [
      "alias cm cm %s"
     ],
     "language": "python",
     "metadata": {},
     "outputs": []
    },
    {
     "cell_type": "heading",
     "level": 2,
     "metadata": {},
     "source": [
      "Preparation (Optional)"
     ]
    },
    {
     "cell_type": "markdown",
     "metadata": {},
     "source": [
      "The ```cluster``` command is available in the cloudmesh shell. There are certain steps to make sure you are all set to deploy a new cluster. You can SKIP these steps if you have configured cloudmesh previously."
     ]
    },
    {
     "cell_type": "code",
     "collapsed": false,
     "input": [
      "cm \"cluster\" "
     ],
     "language": "python",
     "metadata": {},
     "outputs": []
    },
    {
     "cell_type": "markdown",
     "metadata": {},
     "source": [
      "Before starting a cluster, please make sure you activate a cloud: "
     ]
    },
    {
     "cell_type": "code",
     "collapsed": false,
     "input": [
      "cm \"cloud on india\""
     ],
     "language": "python",
     "metadata": {},
     "outputs": []
    },
    {
     "cell_type": "markdown",
     "metadata": {},
     "source": [
      "Activation however does not select the cloud as the default cloud to start virtual machines. This is achieved by the select command"
     ]
    },
    {
     "cell_type": "code",
     "collapsed": false,
     "input": [
      "cm \"cloud select india\""
     ],
     "language": "python",
     "metadata": {},
     "outputs": []
    },
    {
     "cell_type": "markdown",
     "metadata": {},
     "source": [
      ".. note: this is a bit unintuitive and shold probably be done with `cloud default india`"
     ]
    },
    {
     "cell_type": "heading",
     "level": 3,
     "metadata": {},
     "source": [
      "Default keypair"
     ]
    },
    {
     "cell_type": "markdown",
     "metadata": {},
     "source": [
      "To gain access to the virtual machines, you need to have a key registered with the cloud.  If you don't have a default keypair, you need to set or need to specify which keypair you are going use for the vm."
     ]
    },
    {
     "cell_type": "code",
     "collapsed": false,
     "input": [
      "cm \"key default test-key\""
     ],
     "language": "python",
     "metadata": {},
     "outputs": []
    },
    {
     "cell_type": "heading",
     "level": 3,
     "metadata": {},
     "source": [
      "VM Name"
     ]
    },
    {
     "cell_type": "markdown",
     "metadata": {},
     "source": [
      "You can also define the name of VMs which contains a prefix and an index with the ```label``` command. However, the name of the vms must be unique. By default your username and a number will be used that will be automatically increased. Thus we recommend that you avoid using this command."
     ]
    },
    {
     "cell_type": "code",
     "collapsed": false,
     "input": [
      "cm \"label --prefix=test --id=1\""
     ],
     "language": "python",
     "metadata": {},
     "outputs": []
    },
    {
     "cell_type": "heading",
     "level": 3,
     "metadata": {},
     "source": [
      "Default Image"
     ]
    },
    {
     "cell_type": "markdown",
     "metadata": {},
     "source": [
      "You can choose a default image to create a virtual machine. In this example, we use ubuntu-14.04 image as a default."
     ]
    },
    {
     "cell_type": "code",
     "collapsed": false,
     "input": [
      "cm \"default image --name=futuregrid/ubuntu-14.04\""
     ],
     "language": "python",
     "metadata": {},
     "outputs": []
    },
    {
     "cell_type": "heading",
     "level": 3,
     "metadata": {},
     "source": [
      "Default Flavor"
     ]
    },
    {
     "cell_type": "markdown",
     "metadata": {},
     "source": [
      "You can chose a default flavor. However, make sure that the falvor actially works with the specified image. Some images require a minimal flavor. "
     ]
    },
    {
     "cell_type": "code",
     "collapsed": false,
     "input": [
      "cm \"default flavor --name=m1.small\""
     ],
     "language": "python",
     "metadata": {},
     "outputs": []
    },
    {
     "cell_type": "heading",
     "level": 2,
     "metadata": {},
     "source": [
      "Create Cluster"
     ]
    },
    {
     "cell_type": "markdown",
     "metadata": {},
     "source": [
      "Then you may start the cluster with command 'cluster create' by providing the following values:\n",
      "\n",
      "`--count`           \n",
      "    specify amount of VMs in the cluster\n",
      "\n",
      "`--group`           \n",
      "    specify a group name of the cluster, make sure it's UNIQUE\n",
      "\n",
      "`--ln`          \n",
      "    login name for VMs, e.g. ubuntu"
     ]
    },
    {
     "cell_type": "heading",
     "level": 3,
     "metadata": {},
     "source": [
      "Create 3 virtual machines"
     ]
    },
    {
     "cell_type": "markdown",
     "metadata": {},
     "source": [
      "Let us create a cluster with the group name test that contains 3 virtual machines."
     ],
    },
    {
     "cell_type": "code",
     "collapsed": false,
     "input": [
      "cm \"cluster create --count=3 --group=test --ln=ubuntu\""
     ],
     "language": "python",
     "metadata": {},
     "outputs": []
    },
    {
     "cell_type": "markdown",
     "metadata": {},
     "source": [
      "You may also provide a cloud name, flavor or image as parameter in the command if you do not want to use the defaults. For example you can use the following do do so:"
     ]
    },
    {
     "cell_type": "code",
     "collapsed": false,
     "input": [
      "cm \"cluster create --count=3 --group=test0 --ln=ubuntu --cloud=india --flavor=m1.small --image=futuregrid/ubuntu-14.04\""
     ],
     "language": "python",
     "metadata": {},
     "outputs": []
    },
    {
     "cell_type": "markdown",
     "metadata": {},
     "source": [
      "You can display the status of vms for the cluster with the ```vm list``` command:"
     ]
    },
    {
     "cell_type": "code",
     "collapsed": false,
     "input": [
      "cm \"vm list --refresh --group=test\""
     ],
     "language": "python",
     "metadata": {},
     "outputs": []
    }
   ],
   "metadata": {}
  }
 ]
}
