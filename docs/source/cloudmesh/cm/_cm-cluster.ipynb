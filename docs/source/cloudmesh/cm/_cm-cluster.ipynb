{
 "metadata": {
  "name": "",
  "signature": "sha256:8c2a7673da93557cc571872e928c2940de6372af4803356f9cd8f4193d8ae67e"
 },
 "nbformat": 3,
 "nbformat_minor": 0,
 "worksheets": [
  {
   "cells": [
    {
     "cell_type": "heading",
     "level": 1,
     "metadata": {},
     "source": [
      "Deploying Virtual Cluster with Cloudmesh `cm`"
     ]
    },
    {
     "cell_type": "markdown",
     "metadata": {},
     "source": [
      "To support the creation of a virtual compute cluster (e.g. Hadoop or Slurm) on Cloudmesh, ```cluster``` command is available to start, configure, manage or update a number of virtual machines."
     ]
    },
    {
     "cell_type": "heading",
     "level": 2,
     "metadata": {},
     "source": [
      "Preparation"
     ]
    },
    {
     "cell_type": "markdown",
     "metadata": {},
     "source": [
      "```cluster``` command is available in the cloudmesh shell. There are certain steps to make sure you are all set to deploy a new cluster. You can SKIP these steps if you have configured Cloudmesh previously."
     ]
    },
    {
     "cell_type": "heading",
     "level": 3,
     "metadata": {},
     "source": [
      "Cloud Activation"
     ]
    },
    {
     "cell_type": "markdown",
     "metadata": {},
     "source": [
      "Before starting a cluster, please make sure you activate a cloud:"
     ]
    },
    {
     "cell_type": "code",
     "collapsed": false,
     "input": [
      "cm \"cloud on india\""
     ],
     "language": "python",
     "metadata": {},
     "outputs": []
    },
    {
     "cell_type": "markdown",
     "metadata": {},
     "source": [
      "Activation however does not select the cloud as the default cloud to start virtual machines. This can be achieved by the select command."
     ]
    },
    {
     "cell_type": "code",
     "collapsed": false,
     "input": [
      "cm \"cloud select india\""
     ],
     "language": "python",
     "metadata": {},
     "outputs": []
    },
    {
     "cell_type": "code",
     "collapsed": false,
     "input": [
      "cm \"default cloud india\""
     ],
     "language": "python",
     "metadata": {},
     "outputs": []
    },
    {
     "cell_type": "heading",
     "level": 3,
     "metadata": {},
     "source": [
      "Default Key Pair"
     ]
    },
    {
     "cell_type": "markdown",
     "metadata": {},
     "source": [
      "To gain access to a virtual cluster, you need a key registered on OpenStack. If you don\u2019t have a default keypair, you need to set or need to specify which keypair you are going to use for the virtual cluster."
     ]
    },
    {
     "cell_type": "code",
     "collapsed": false,
     "input": [
      "cm \"key default [username]-india-key\""
     ],
     "language": "python",
     "metadata": {},
     "outputs": []
    },
    {
     "cell_type": "markdown",
     "metadata": {},
     "source": [
      ".. warning:: **REPLACE [username] with your portal id, e.g. albert** "
     ]
    },
    {
     "cell_type": "heading",
     "level": 3,
     "metadata": {},
     "source": [
      "Default VM Image"
     ]
    },
    {
     "cell_type": "markdown",
     "metadata": {},
     "source": [
      "You need that a default VM image is configured. We use ubuntu-14.04 image as a default in this tutorial."
     ]
    },
    {
     "cell_type": "code",
     "collapsed": false,
     "input": [
      "cm \"default image --name=futuresystems/ubuntu-14.04\""
     ],
     "language": "python",
     "metadata": {},
     "outputs": []
    },
    {
     "cell_type": "heading",
     "level": 3,
     "metadata": {},
     "source": [
      "Default Flavor"
     ]
    },
    {
     "cell_type": "markdown",
     "metadata": {},
     "source": [
      "You need that a default flavor is configured. Make sure that the flavor works with the default image. Some images require a larger size of a flavor rather than a smaller one e.g. m1.small or m1.tiny."
     ]
    },
    {
     "cell_type": "code",
     "collapsed": false,
     "input": [
      "cm \"default flavor --name=m1.small\""
     ],
     "language": "python",
     "metadata": {},
     "outputs": []
    },
    {
     "cell_type": "heading",
     "level": 2,
     "metadata": {},
     "source": [
      "Getting Started"
     ]
    },
    {
     "cell_type": "heading",
     "level": 3,
     "metadata": {},
     "source": [
      "Create a Virtual Cluster with ``cluster`` command"
     ]
    },
    {
     "cell_type": "markdown",
     "metadata": {},
     "source": [
      "Run \u2018cluster create\u2019 with the following parameters:\n",
      "\n",
      "name\n",
      "cluster name\n",
      "--count\n",
      "specify amount of VMs in the cluster\n",
      "--ln\n",
      "login name for VMs, e.g. ubuntu"
     ]
    },
    {
     "cell_type": "heading",
     "level": 3,
     "metadata": {},
     "source": [
      "Create a Virtual Cluster with 3 virtual machines"
     ]
    },
    {
     "cell_type": "markdown",
     "metadata": {},
     "source": [
      "Let us create a cluster with the group name cluster_tutorial that contains 3 virtual machines."
     ]
    },
    {
     "cell_type": "code",
     "collapsed": false,
     "input": [
      "cm \"cluster create cluster_tutorial1 --count=3 --ln=ubuntu\""
     ],
     "language": "python",
     "metadata": {},
     "outputs": []
    },
    {
     "cell_type": "markdown",
     "metadata": {},
     "source": [
      "You may also provide a flavor or a VM image in the command. For example, creating a virtual cluster on Ubuntu 14.04 image with a small flavor:"
     ]
    },
    {
     "cell_type": "code",
     "collapsed": false,
     "input": [
      "cm \"cluster create cluster_tutorial2 --count=3 --ln=ubuntu --cloud=india --flavor=m1.small --image=futuresystems/ubuntu-14.04\""
     ],
     "language": "python",
     "metadata": {},
     "outputs": []
    },
    {
     "cell_type": "heading",
     "level": 3,
     "metadata": {},
     "source": [
      "Check Status of a Virtual Cluster"
     ]
    },
    {
     "cell_type": "markdown",
     "metadata": {},
     "source": [
      "Use ``vm` command with ``--group`` parameter to check the status."
     ]
    },
    {
     "cell_type": "code",
     "collapsed": false,
     "input": [
      "cm \"vm list --refresh --group=cluster_tutorial1\""
     ],
     "language": "python",
     "metadata": {},
     "outputs": []
    },
    {
     "cell_type": "heading",
     "level": 3,
     "metadata": {},
     "source": [
      "Terminate a Virtual Cluster"
     ]
    },
    {
     "cell_type": "markdown",
     "metadata": {},
     "source": [
      "Delete a virtual cluster with the name."
     ]
    },
    {
     "cell_type": "code",
     "collapsed": false,
     "input": [
      "cm \"cluster remove cluster_tutorial1\""
     ],
     "language": "python",
     "metadata": {},
     "outputs": []
    },
    {
     "cell_type": "code",
     "collapsed": false,
     "input": [
      "cm \"cluster remove cluster_tutorial2\""
     ],
     "language": "python",
     "metadata": {},
     "outputs": []
    },
    {
     "cell_type": "heading",
     "level": 3,
     "metadata": {},
     "source": [
      "Cluster Help Message"
     ]
    },
    {
     "cell_type": "markdown",
     "metadata": {},
     "source": [
      "\n",
      "    Usage:\n",
      "       cluster list [--format=FORMAT]\n",
      "       cluster create <name>\n",
      "                      [--count=<count>]\n",
      "                      [--ln=<LoginName>]\n",
      "                      [--cloud=<CloudName>]\n",
      "                      [--image=<imgName>|--imageid=<imgId>]\n",
      "                      [--flavor=<flavorName>|--flavorid=<flavorId>]\n",
      "                      [--force]\n",
      "       cluster show <name> \n",
      "                    [--format=FORMAT] \n",
      "                    [--column=COLUMN]\n",
      "                    [--detail]\n",
      "       cluster remove <name> \n",
      "                      [--grouponly]\n",
      "\n",
      "    Description:\n",
      "      Cluster Management\n",
      "\n",
      "      cluster list\n",
      "          list the clusters\n",
      "\n",
      "      cluster create <name> --count=<count> --ln=<LoginName> [options...]\n",
      "          Start a cluster of VMs, and each of them can log into all others.\n",
      "          CAUTION: you sould do some default setting before using this command:\n",
      "          1. select cloud to work on, e.g. cloud select india\n",
      "          2. activate the cloud, e.g. cloud on india\n",
      "          3. set the default key to start VMs, e.g. key default [NAME]\n",
      "          4. set the start name of VMs, which is prefix and index, e.g. label --prefix=test --id=1\n",
      "          5. set image of VMs, e.g. default image\n",
      "          6. set flavor of VMs, e.g. default flavor\n",
      "          Also, it is better to choose a unused group name\n",
      "\n",
      "      cluster show <name>\n",
      "          show the detailed information about the cluster VMs\n",
      "\n",
      "      cluster remove <name> [--grouponly]\n",
      "          remove the cluster and its VMs, if you want to remove the cluster(group name)\n",
      "          without removing the VMs, use --grouponly flag\n",
      "\n",
      "    Arguments:\n",
      "      <name>        cluster name or group name\n",
      "\n",
      "    Options:\n",
      "      --count=<count>            give the number of VMs to add into the cluster\n",
      "      --ln=<LoginName>           give a login name for the VMs, e.g. ubuntu\n",
      "      --cloud=<CloudName>        give a cloud to work on\n",
      "      --flavor=<flavorName>      give the name of the flavor\n",
      "      --flavorid=<flavorId>      give the id of the flavor\n",
      "      --image=<imgName>          give the name of the image\n",
      "      --imageid=<imgId>          give the id of the image\n",
      "      --force                    if a group exists and there are VMs in it, the program will\n",
      "                                 ask user to proceed or not, use this flag to respond yes as \n",
      "                                 default(if there are VMs in the group before creating this \n",
      "                                 cluster, the program will include the exist VMs into the cluster)\n",
      "      --grouponly                remove the group only without removing the VMs, otherwise \n",
      "                                 cluster remove command will remove all the VMs of this cluster\n",
      "      FORMAT                     output format: table, json, csv\n",
      "      COLUMN                     customize what information to display, for example:\n",
      "                                 --column=status,addresses prints the columns status\n",
      "                                 and addresses\n",
      "      --detail                   for table print format, a brief version \n",
      "                                 is used as default, use this flag to print\n",
      "                                 detailed table"
     ]
    }
   ],
   "metadata": {}
  }
 ]
}
