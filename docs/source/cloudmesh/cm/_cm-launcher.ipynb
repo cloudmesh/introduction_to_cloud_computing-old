{
 "metadata": {
  "name": "",
  "signature": "sha256:bcbd8620026cecfe78d5bb2df5b76b0b3d64865867ede347aa1ea609a778f9f3"
 },
 "nbformat": 3,
 "nbformat_minor": 0,
 "worksheets": [
  {
   "cells": [
    {
     "cell_type": "heading",
     "level": 1,
     "metadata": {},
     "source": [
      "Command Shell Orchestration Tool (Launcher)"
     ]
    },
    {
     "cell_type": "markdown",
     "metadata": {},
     "source": [
      "<button type=\"button\" class=\"btn btn-default navbar-btn\">[Notebook](http://localhost:8888/notebooks/docs/source/cloudmesh/cm/_cm-launcher.ipynb)</button>"
     ]
    },
    {
     "cell_type": "markdown",
     "metadata": {},
     "source": [
      "Launcher provides orchestration for creating ready-to-use cloud applications with Chef Cookbooks and shell scripts. \n",
      "\n",
      ".. note: Openstack is only supported at the current development."
     ]
    },
    {
     "cell_type": "heading",
     "level": 3,
     "metadata": {},
     "source": [
      "IPython Alias"
     ]
    },
    {
     "cell_type": "markdown",
     "metadata": {},
     "source": [
      "With the alias command we simply define a new command with the name cm that we can call directly from IPython. Here we make sure that the parameters ar between \"\" so that they are properly set. Just execute the following lines."
     ]
    },
    {
     "cell_type": "code",
     "collapsed": false,
     "input": [
      "alias cm cm %s"
     ],
     "language": "python",
     "metadata": {},
     "outputs": [],
     "prompt_number": 2
    },
    {
     "cell_type": "heading",
     "level": 2,
     "metadata": {},
     "source": [
      "Launcher import command"
     ]
    },
    {
     "cell_type": "markdown",
     "metadata": {},
     "source": [
      "Launcher registers local cookbooks from the yaml file (cloudmesh_launcher.yaml)"
     ]
    },
    {
     "cell_type": "code",
     "collapsed": false,
     "input": [
      "cm launcher import"
     ],
     "language": "python",
     "metadata": {},
     "outputs": [
      {
       "output_type": "stream",
       "stream": "stdout",
       "text": [
        "launcher 'bigdata_mooc' added.\r\n",
        "launcher 'slurm' added.\r\n",
        "launcher 'hadoop' added.\r\n",
        "launcher 'ganglia' added.\r\n",
        "launcher 'nagios' added.\r\n"
       ]
      }
     ],
     "prompt_number": 5
    },
    {
     "cell_type": "heading",
     "level": 2,
     "metadata": {},
     "source": [
      "Launcher menu command"
     ]
    },
    {
     "cell_type": "markdown",
     "metadata": {},
     "source": [
      "`menu` command provides available local cookbooks that are registered by `import`.\n",
      "These cookbooks represent Chef Cookbooks registered in Cloudmesh. You can choose one of the names to start `Launcher`.\n",
      "\n",
      ".. note:: Registered Cookbooks can be found at: https://github.com/cloudmesh/chef"
     ]
    },
    {
     "cell_type": "code",
     "collapsed": false,
     "input": [
      "cm launcher menu"
     ],
     "language": "python",
     "metadata": {},
     "outputs": [
      {
       "output_type": "stream",
       "stream": "stdout",
       "text": [
        "+--------------+----------------------+------------------------------------------------------------------------------------------------------------------------------------------------------------------+\r\n",
        "| launcher     | name                 | description                                                                                                                                                      |\r\n",
        "+--------------+----------------------+------------------------------------------------------------------------------------------------------------------------------------------------------------------+\r\n",
        "| bigdata_mooc | Big Data Class at IU | Deploys an Image for a class taught on Big Data.                                                                                                                 |\r\n",
        "|              |                      |                                                                                                                                                                  |\r\n",
        "| ganglia      | Ganglia              | Deploys a Ganglia service for the vms specified. The ganglia server will be the first node in the list.                                                          |\r\n",
        "|              |                      |                                                                                                                                                                  |\r\n",
        "| hadoop       | Hadoop               | Deploys a hadoop cluster on the VMs specified                                                                                                                    |\r\n",
        "|              |                      |                                                                                                                                                                  |\r\n",
        "| nagios       | Nagios               | Deploys a Nagios service for the vms specified. The ganglia server will be the first node in the list.                                                           |\r\n",
        "|              |                      |                                                                                                                                                                  |\r\n",
        "| slurm        | Slurm Cluster        | Deploys a Slurm cluster. One of the Vms is the Master, while the others register with the master as worker nodes. The master will be the first node in the list. |\r\n",
        "|              |                      |                                                                                                                                                                  |\r\n",
        "+--------------+----------------------+------------------------------------------------------------------------------------------------------------------------------------------------------------------+\r\n"
       ]
      }
     ],
     "prompt_number": 7
    },
    {
     "cell_type": "heading",
     "level": 2,
     "metadata": {},
     "source": [
      "Launcher start command"
     ]
    },
    {
     "cell_type": "markdown",
     "metadata": {},
     "source": [
      "If you decide which cookbook you are going to use, you are ready to create a new `Launcher` with the cookbook name.\n",
      "In this tutorial, we use `bigdata_mooc` as a desired cookbook."
     ]
    },
    {
     "cell_type": "code",
     "collapsed": false,
     "input": [
      "cm launcher start bigdata_mooc"
     ],
     "language": "python",
     "metadata": {},
     "outputs": [
      {
       "output_type": "stream",
       "stream": "stdout",
       "text": [
        "* india\r\n",
        "Refreshing albert servers india ->\r\n"
       ]
      },
      {
       "output_type": "stream",
       "stream": "stdout",
       "text": [
        "Refresh time: 0.219480037689\r\n"
       ]
      },
      {
       "output_type": "stream",
       "stream": "stdout",
       "text": [
        "Store time: 0.0358941555023\r\n"
       ]
      }
     ],
     "prompt_number": 8
    },
    {
     "cell_type": "heading",
     "level": 2,
     "metadata": {},
     "source": [
      "Launcher list command"
     ]
    },
    {
     "cell_type": "markdown",
     "metadata": {},
     "source": [
      "If your launcher has been successfully created, you can see it in the list of running launchers with `list` command."
     ]
    },
    {
     "cell_type": "code",
     "collapsed": false,
     "input": [
      "cm launcher list"
     ],
     "language": "python",
     "metadata": {},
     "outputs": [],
     "prompt_number": 12
    },
    {
     "cell_type": "heading",
     "level": 2,
     "metadata": {},
     "source": [
      "Launcher stop command"
     ]
    },
    {
     "cell_type": "markdown",
     "metadata": {},
     "source": [
      "`stop` command terminates your launcher."
     ]
    },
    {
     "cell_type": "code",
     "collapsed": false,
     "input": [
      "# cm launcher stop launcher-$USERNAME-bigdata_mooc-$RAND"
     ],
     "language": "python",
     "metadata": {},
     "outputs": [],
     "prompt_number": 10
    },
    {
     "cell_type": "heading",
     "level": 2,
     "metadata": {},
     "source": [
      "Launcher export command"
     ]
    },
    {
     "cell_type": "markdown",
     "metadata": {},
     "source": [
      "Your loaded cookbooks in the database can be exported to a yaml file with `export` command.\n",
      "For example, we can generate a `/tmp/cloudmesh_launcher.yaml` file by exporting a registered cookbooks in the database."
     ]
    },
    {
     "cell_type": "code",
     "collapsed": false,
     "input": [
      "cm launcher export /tmp/cloudmesh_launcher.yaml"
     ],
     "language": "python",
     "metadata": {},
     "outputs": [],
     "prompt_number": 12
    },
    {
     "cell_type": "code",
     "collapsed": false,
     "input": [],
     "language": "python",
     "metadata": {},
     "outputs": []
    }
   ],
   "metadata": {}
  }
 ]
}
